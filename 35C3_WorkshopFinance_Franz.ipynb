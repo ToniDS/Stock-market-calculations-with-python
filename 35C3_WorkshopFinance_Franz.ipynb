{
 "cells": [
  {
   "cell_type": "markdown",
   "metadata": {},
   "source": [
    "Codebasis zur Berechnung von Renditen und Renditedreiecken."
   ]
  },
  {
   "cell_type": "code",
   "execution_count": 2,
   "metadata": {},
   "outputs": [],
   "source": [
    "\n",
    "# -*- coding: utf-8 -*-\n",
    "\"\"\"\n",
    "This cell contains class definitions for the calculation the evolution and outcome of a savings plan. \n",
    "A saving plan with a fix return percentage or within stock buyings are supported. \n",
    "All imported packages are available on PyPI and can be installed through \"pip install ...\" \n",
    "\"\"\"\n",
    "import numpy as np\n",
    "import matplotlib.pyplot as plt\n",
    "import matplotlib as mpl\n",
    "from matplotlib import cm\n",
    "import quandl #provides an API for finance data\n",
    "import pandas as pd\n",
    "from pandas_datareader import data as pdr #uses several APIs for finance data, for instance yahoo_finance\n",
    "import fix_yahoo_finance as yf #since yahoo finance isn't working and maintained anymore, it was fixed by this package\n",
    "import irr #a very fast package for the calculation of \"internal rate of return, much faster than in numpy\" (Interner Zinsfuß)\n",
    "           # Documentation: https://github.com/better/irr\n",
    "yf.pdr_override() \n",
    "plt.style.use('default') #Use another matplotlib style for \n",
    "quandl.ApiConfig.api_key = 'TAJWxRm_yayb-Avh1pkT' #Franz' quandl API-key (Feel free to use your own)\n",
    "\n",
    "class CumulativeCalculation:\n",
    "    \"\"\"\n",
    "    Creates and calculates a dataframe of a savings plan\n",
    "    \"\"\"\n",
    "    def __init__(self, initial_balance, start, stop, deposit, repetition, interest=0.0):\n",
    "        \"\"\"\n",
    "        Initialization of the attributes used in the calculation. Calls self.create_deposit.\n",
    "        Creates a pandas Dataframe within the defined datetime-limits.\n",
    "        \"\"\"\n",
    "        self.initial_balance = initial_balance\n",
    "        self.interest = interest\n",
    "        self.deposit = deposit\n",
    "        self.rep = repetition\n",
    "        self.start = start\n",
    "        self.end = stop\n",
    "        self.index = pd.date_range(start=self.start, end=self.end, freq='D')\n",
    "        self.deposit_locations = pd.date_range(start=start, end=stop, freq=self.rep) #deposit timestamps\n",
    "        self.df = pd.DataFrame(index=self.index)\n",
    "        self.df[\"value\"] = 0.0\n",
    "        self.df[\"deposit\"] = 0.0\n",
    "        self.create_deposit()\n",
    "        \n",
    "    def create_deposit(self):\n",
    "        \"\"\"\n",
    "        Writes the initial balance and all deposits to the dataframe.\n",
    "        \"\"\"\n",
    "        self.df[\"deposit\"][self.deposit_locations] = self.deposit\n",
    "        self.df[\"value\"][self.start] = self.initial_balance\n",
    "        \n",
    "    def calc_interest(self):\n",
    "        \"\"\"\n",
    "        Iteratively determines (day by day) the evolution of the balance in dependence on the deposits,\n",
    "        the initial balance and the interest rate.\n",
    "        \"\"\"\n",
    "        days_per_year = 365.249\n",
    "        for current_day in self.df.index[1:]:\n",
    "            current_yesterday = current_day - 1\n",
    "            self.df[\"value\"][current_day] = (self.df[\"value\"][current_yesterday] \n",
    "                                                + self.df[\"deposit\"][current_yesterday])\\\n",
    "                                                *(1+(self.interest/100))**(1/days_per_year)\n",
    "        self.df.index.name = \"Date\"\n",
    "\n",
    "\n",
    "class CumulativeStockCalculation(CumulativeCalculation):\n",
    "    \"\"\"\n",
    "    Child class of CumulativeCalculation that adds stock buying to the savings plan. The whole amount of the savings\n",
    "    rate is spend for the defined stock.\n",
    "    \"\"\"\n",
    "    def __init__(self, data_source, yahoo_stock, initial_balance, start, stop, deposit, repetition, preloaded_data=None):\n",
    "        \"\"\"\n",
    "        Initialization for the Calculation of cumulative returns of a defined stock.\n",
    "        The historical data of the given stock is stored inside a csv file to save time if\n",
    "        it is used later.\n",
    "        \"\"\"\n",
    "        self.data_source = data_source\n",
    "        self.stock = yahoo_stock\n",
    "        self.yahoo_default_start_date = \"1971-01-01\"\n",
    "        if not os.path.exists('stocks_data'):\n",
    "            os.makedirs('stocks_data')\n",
    "        if not os.path.exists('stocks_data/{}.csv'.format(yahoo_stock.replace(\"/\", \"1\"))):\n",
    "            self.stock_data = self.load_stock_data()\n",
    "            self.stock_data.to_csv('stocks_data/{}.csv'.format(yahoo_stock.replace(\"/\", \"1\")), header=False)\n",
    "        else:\n",
    "            if preloaded_data is None:\n",
    "                self.stock_data = pd.read_csv('stocks_data/{}.csv'.format(yahoo_stock.replace(\"/\", \"1\")), index_col=0,\n",
    "                                              header=None, names=[\"Close\"])[\"Close\"]#, names=[\"Date\", \"Close\"])\n",
    "            else:\n",
    "                self.stock_data = preloaded_data\n",
    "            self.stock_data.index.name = \"Date\"\n",
    "            self.stock_data.index = pd.to_datetime(self.stock_data.index)\n",
    "        self.cropped_stock_data = self.stock_data[np.all([start <= self.stock_data.index,\n",
    "                                                  self.stock_data.index <= stop], axis=0)]\n",
    "        super().__init__(initial_balance, start, stop, deposit, repetition)\n",
    "        self.df[\"stock_price\"] = self.cropped_stock_data\n",
    "        self.df[\"stock_price\"] = self.df[\"stock_price\"].fillna(method=\"bfill\")\n",
    "        self.df.stock_price = self.df.stock_price.fillna(method=\"ffill\")\n",
    "        self.df[\"number_of_stocks\"] = 0.0\n",
    "        self.df[\"number_of_stocks\"][self.start] = self.initial_balance / self.df[\"stock_price\"][self.start]\n",
    "        \n",
    "    def load_stock_data(self):\n",
    "        \"\"\"\n",
    "        This method loads stock data from the chosen source. Only yahoo and quandl are supported yet.\n",
    "        Called inside of self.__init__\n",
    "        \"\"\"\n",
    "        if \"yahoo\" in self.data_source:\n",
    "            data = pdr.get_data_yahoo(self.stock,pd.to_datetime(self.yahoo_default_start_date))[\"Close\"]\n",
    "        elif \"quandl\" in self.data_source:\n",
    "            data = quandl.get(self.stock)[\"Value\"]\n",
    "        else:\n",
    "            raise ValueError(\"Unknown Data Source\")\n",
    "        return data\n",
    "    \n",
    "    def calc_interest(self):\n",
    "        \"\"\"\n",
    "        This method determines the evolution of the given stock savings plan over the defined time.\n",
    "        Overrides the calc_interest method inside of CumulativeCalculation.\n",
    "        \"\"\"\n",
    "        initial_number_of_stocks = self.df[\"value\"][self.start]/self.df[\"stock_price\"][self.start]\n",
    "        self.df[\"buy\"] = self.df.deposit/self.df.stock_price\n",
    "        self.df[\"number_of_stocks\"] = self.df.buy.cumsum()\n",
    "        self.df[\"value\"] = self.df.number_of_stocks*self.df.stock_price\n",
    "        self.df.index.name = \"Date\"\n",
    "        \n",
    "    def calc_avg_return(self):\n",
    "        \"\"\"\n",
    "        This method determines the average return (per year) of the stock savings plan. The irr.irr\n",
    "        method is much faster than the one contained in numpy. Numerically solves the optimization \n",
    "        problem of determining the average return of an investment where the numer of stocks changes over time.\n",
    "        \"\"\"\n",
    "        irr_value = irr.irr([-self.deposit]*self.deposit_locations.size+[self.df.value[-1]])\n",
    "        avg_return = (irr_value+1)**12\n",
    "        #print(self.start,\" --> \", self.end, 'irr: ',\n",
    "        #      irr_value, \"--> return/a: \", (avg_return-1)*100)\n",
    "        return avg_return\n",
    "    \n",
    "    def plot_stock(self):\n",
    "        \"\"\"Plots the given close stock price within the given time window.\"\"\"\n",
    "        plt.figure(3, figsize=(15,9))\n",
    "        self.df.stock_price.plot()\n",
    "        plt.yscale(\"log\")\n",
    "        plt.ylim(1e2,1e4)\n",
    "        return df\n",
    "\n",
    "        \n",
    "class RenditeDreieck:\n",
    "    \"\"\"\n",
    "    Class that defines a Renditedreieck, kind of a triangle of returns. In a given time frame, \n",
    "    the average return of a savings plan is calculated for all sub time frames.\n",
    "    For instance if a time frame of 1970 to 1990 is given, the following average returns are calculated:\n",
    "    1970 -> 1971\n",
    "    1970 -> 1972\n",
    "    ...\n",
    "    1971 -> 1972\n",
    "    1971 -> 1973\n",
    "    ...\n",
    "    ...\n",
    "    1989 -> 1990\n",
    "    \"\"\"\n",
    "    \n",
    "    def __init__(self, data_source, yahoo_stock, start, end, deposit, repetition, period):\n",
    "        \"\"\"\n",
    "        The init method creates the dataframe which is used for\n",
    "        \n",
    "        Args:\n",
    "            data_source (str): Data source, only \"yahoo\" and \"quandl\" are supported yet\n",
    "            yahoo_stock (str): WKN of the stock\n",
    "            start (pd.Timestamp): Start date\n",
    "            end (pd.Timestamp): End date\n",
    "            deposit (float): periodically deposit (amount not number of stocks).\n",
    "                The deposit doesn't affect the average return as long as taxes and fees\n",
    "                are not taken into account. It might be important for future child classes of \n",
    "                Renditedreieck\n",
    "            repetition (str): Period of deposit, \"MS\" for every month\n",
    "            period (str): Period of triangle determination, \"Y\" for year, \"M\" for month\n",
    "        Examples:\n",
    "            >>> begin_date = pd.Timestamp(\"1984-10-30\")\n",
    "            >>> end_date = pd.Timestamp(\"2019-01-03\")\n",
    "            >>> deposit = 100.\n",
    "            >>> my_dreieck = RenditeDreieck(\"yahoo_finance\", \"^GSPC\", begin_date, end_date, deposit, \"MS\", \"Y\")\n",
    "        \"\"\" \n",
    "        self.data_source = data_source\n",
    "        self.yahoo_stock = yahoo_stock\n",
    "        self.deposit = deposit\n",
    "        self.repetition = repetition\n",
    "        self.start = pd.to_datetime(start)\n",
    "        self.end = pd.to_datetime(end)\n",
    "        self.time_diff = self.end.year - self.start.year\n",
    "        self.time_range_withdraw = pd.date_range(start=self.start, end=self.end, freq=period)\n",
    "        self.time_range_deposit = self.time_range_withdraw - 1\n",
    "        self.triangle_array = np.zeros((self.time_diff, self.time_diff))\n",
    "        self.filename = \"\"\n",
    "    \n",
    "    def calc_triangle(self, new):\n",
    "        \"\"\"\n",
    "        Contains loop that calculates the average return for the sub time frames.\n",
    "        Saves the results in a csv-file.\n",
    "        \"\"\"\n",
    "        preloaded_data = None\n",
    "        if new:                \n",
    "            for i, startdate in enumerate(self.time_range_deposit):\n",
    "                for k, enddate in enumerate(self.time_range_withdraw):\n",
    "                    if k >= i:\n",
    "                        current_curve = CumulativeStockCalculation(self.data_source,\n",
    "                                                                   self.yahoo_stock, 0, \n",
    "                                                                   startdate, enddate, \n",
    "                                                                   self.deposit, self.repetition,\n",
    "                                                                   preloaded_data)\n",
    "                        current_curve.calc_interest()\n",
    "                        self.triangle_array[i,k] = current_curve.calc_avg_return()\n",
    "                        if preloaded_data is None:\n",
    "                            preloaded_data = current_curve.stock_data\n",
    "            self.filename = \"trianfile_\"+self.yahoo_stock.replace(\"/\", \"1\")+\".csv\"\n",
    "            np.savetxt(self.filename, (self.triangle_array-1)*100)\n",
    "                    \n",
    "    def draw_step(self, offset, gridsize):\n",
    "        \"\"\"\n",
    "        Plots a step plot inside of the triangle of returns to seperate investment horizons\n",
    "        of 5 years.\n",
    "        (the triangle of return)\n",
    "        \"\"\"\n",
    "        x = np.arange(4.5+offset,gridsize+.5)\n",
    "        y= np.arange(-0.5,gridsize-4.5-offset)\n",
    "        plt.step(x,y, lw=2, color=\"w\")\n",
    "\n",
    "    def plot_triangle(self, filename=None):\n",
    "        \"\"\"\n",
    "        Aranges the plot of the triangle of return.\n",
    "        \"\"\"\n",
    "        if filename:\n",
    "            self.filename=filename\n",
    "        A = np.round(np.genfromtxt(self.filename),1)\n",
    "        mask =  np.tri(A.shape[0], k=-1)\n",
    "        A = np.fliplr(np.fliplr(A).T)\n",
    "        A = np.ma.array(A, mask=mask) # mask out the lower triangle\n",
    "        fig = plt.figure(self.yahoo_stock, figsize=(9.5,6))\n",
    "        ax1 = fig.add_subplot(111)\n",
    "        # custom nonlinear colormap, optimized to visualize small changes around a return of 0% as well as bigger changes. Better than a log scale.\n",
    "        c=np.matrix(\"[142,0,0;143,1,0;144,2,0;145,3,0;146,4,0;147,4,0;148,5,0;149,6,0;150,7,0;151,8,0;152,9,0;153,10,0;154,11,0;155,12,0;156,12,0;157,13,0;158,14,0;159,15,0;160,16,0;161,17,0;162,18,0;163,19,0;164,19,0;165,20,0;166,21,0;167,22,0;168,23,0;169,24,0;170,25,0;171,26,0;172,27,0;173,27,0;174,28,0;175,29,0;176,30,0;177,31,0;178,32,0;179,33,0;179,34,0;180,35,0;181,35,0;182,36,0;183,37,0;184,38,0;185,39,0;186,40,0;187,41,0;188,42,0;189,42,0;190,43,0;191,44,0;192,45,0;193,46,0;194,47,0;195,48,0;196,49,0;197,50,0;198,50,0;199,51,0;200,52,0;201,53,0;202,54,0;203,55,0;204,56,0;205,57,1;206,60,5;207,63,9;207,67,13;208,70,17;209,73,21;210,76,25;211,79,29;211,82,33;212,85,37;213,88,41;214,92,45;215,95,49;215,98,53;216,101,57;217,104,61;218,107,65;219,110,69;219,113,73;220,117,77;221,120,81;222,123,85;223,126,89;223,129,93;224,132,97;225,135,101;226,139,105;227,142,109;227,145,113;228,148,117;229,151,121;230,154,125;231,157,129;231,160,133;232,164,137;233,167,141;234,170,145;235,173,149;235,176,153;236,179,157;237,182,161;238,185,165;239,189,170;239,192,174;240,195,178;241,198,182;242,201,186;243,204,190;243,207,194;244,210,198;245,214,202;246,217,206;247,220,210;247,223,214;248,226,218;249,229,222;250,232,226;251,235,230;251,239,234;252,242,238;253,245,242;254,248,246;255,251,250;255,254,254;254,255,254;251,253,250;248,252,246;244,250,242;241,248,238;238,247,234;235,245,230;231,244,226;228,242,222;225,240,218;222,239,214;218,237,210;215,235,206;212,234,202;209,232,198;205,230,194;202,229,190;199,227,186;196,226,182;192,224,178;189,222,174;186,221,170;183,219,166;179,217,161;176,216,157;173,214,153;170,212,149;166,211,145;163,209,141;160,207,137;157,206,133;153,204,129;150,203,125;147,201,121;144,199,117;140,198,113;137,196,109;134,194,105;131,193,101;127,191,97;124,190,93;121,188,89;118,186,85;114,185,81;111,183,77;108,181,73;105,180,69;101,178,65;98,176,61;95,175,57;92,173,53;88,172,49;85,170,45;82,168,41;79,167,37;75,165,33;72,163,29;69,162,25;66,160,21;62,158,17;59,157,13;56,155,9;53,153,5;49,152,1;48,151,0;47,150,0;47,149,0;46,148,0;45,147,0;44,146,0;44,145,0;43,144,0;42,143,0;41,142,0;40,141,0;40,139,0;39,138,0;38,137,0;37,136,0;37,135,0;36,134,0;35,133,0;34,132,0;34,131,0;33,130,0;32,129,0;31,128,0;31,127,0;30,126,0;29,125,0;28,124,0;27,123,0;27,122,0;26,121,0;25,120,0;24,119,0;24,118,0;23,117,0;22,116,0;21,115,0;21,114,0;20,113,0;19,112,0;18,111,0;18,110,0;17,109,0;16,108,0;15,107,0;15,106,0;14,105,0;13,104,0;12,103,0;11,102,0;11,101,0;10,100,0;9,99,0;8,98,0;8,97,0;7,96,0;6,95,0;5,94,0;5,93,0;4,92,0;3,91,0;2,90,0;2,89,0;1,88,0;0,87,0]\")\n",
    "        my_cm = mpl.colors.ListedColormap(c/255.0)\n",
    "        gridsize = np.shape(A)[0]\n",
    "        cmap = cm.get_cmap(my_cm, 100000) # jet doesn't have white color\n",
    "        x_ticks = list(self.time_range_deposit.year[::-1])\n",
    "        y_ticks = list(self.time_range_withdraw.year[::-1])\n",
    "        print(x_ticks)\n",
    "        print(y_ticks)\n",
    "        ax1.imshow(A, interpolation=\"nearest\", cmap=cmap, aspect=\"auto\", \n",
    "                   origin=\"lower\", vmin=-20, vmax=20)\n",
    "        ax1.yaxis.tick_right()\n",
    "        ax1.set_xticks(range(gridsize))\n",
    "        ax1.set_yticks(range(gridsize))\n",
    "        ax1.set_xticklabels(x_ticks, rotation=90)\n",
    "        ax1.set_yticklabels(y_ticks)\n",
    "        plt.setp(ax1.get_xticklabels(), rotation=45, ha=\"right\",\n",
    "                rotation_mode=\"anchor\")\n",
    "        ax1.spines['right'].set_visible(False)\n",
    "        ax1.spines['top'].set_visible(False)\n",
    "        ax1.spines['left'].set_visible(False)\n",
    "        ax1.spines['bottom'].set_visible(False)\n",
    "        ax1.set_title(self.yahoo_stock)\n",
    "        a,b = np.shape(A)\n",
    "        for i in range(a):\n",
    "            for j in range(b):\n",
    "                if A[i, j]:\n",
    "                    if abs(A[i,j]) > 15:\n",
    "                        text = ax1.text(j, i, A[i, j],\n",
    "                                        ha=\"center\", va=\"center\", color=\"w\", fontsize=7)\n",
    "                    else:\n",
    "                        text = ax1.text(j, i, A[i, j],\n",
    "                                        ha=\"center\", va=\"center\", color=\"k\", fontsize=7)\n",
    "                if A[i,j] == 0:\n",
    "                    print(i,j)\n",
    "                    ax1.text(j, i, abs(A[i, j]),\n",
    "                             ha=\"center\", va=\"center\", color=\"k\", fontsize=7)\n",
    "\n",
    "        for i in np.arange(0,gridsize,5):\n",
    "            self.draw_step(i,gridsize)\n",
    "        plt.savefig(\"renditedreieck_\"+self.yahoo_stock.replace(\"/\", \"1\")+\".pdf\", dpi=300)\n",
    "        plt.tight_layout()\n",
    "        plt.show()\n",
    "\n",
    "\n",
    "\n",
    "def load_stock_data(self, source,  start, end):\n",
    "    \"\"\"\n",
    "    Connects to yahoo server and requests historical stock prices.\n",
    "    \"\"\"\n",
    "    self.stock_data = pdr.get_data_yahoo(yahoo_stock,pd.to_datetime(start),pd.to_datetime(end))[\"Close\"]\n",
    "    super().__init__(initial_balance, start, stop, deposit, repetition)\n",
    "    self.df[\"stock_price\"] = self.stock_data\n",
    "    self.df[\"stock_price\"] = self.df[\"stock_price\"].fillna(method=\"bfill\")\n",
    "    self.df.stock_price = self.df.stock_price.fillna(method=\"ffill\")\n",
    "    return "
   ]
  },
  {
   "cell_type": "markdown",
   "metadata": {},
   "source": [
    "Style festlegen und interaktiven notebook-plot auswählen."
   ]
  },
  {
   "cell_type": "code",
   "execution_count": 3,
   "metadata": {},
   "outputs": [],
   "source": [
    "import matplotlib.pyplot as plt\n",
    "plt.style.use(\"fivethirtyeight\")\n",
    "# Interactive version. If you like to have static plots, use the magic %matplotlib inline\n",
    "# Since javascript support isn't ported to jupyterlab yet, use %matplotlib inline or ipymplin jupyterlab\n",
    "%matplotlib ipympl"
   ]
  },
  {
   "cell_type": "code",
   "execution_count": 4,
   "metadata": {},
   "outputs": [],
   "source": [
    "import matplotlib as mpl\n",
    "mpl.rcParams['figure.dpi']= 110\n",
    "mpl.rcParams['lines.linewidth'] = 2.0\n"
   ]
  },
  {
   "cell_type": "markdown",
   "metadata": {},
   "source": [
    "# Proposal"
   ]
  },
  {
   "cell_type": "markdown",
   "metadata": {},
   "source": [
    "\"Sparen am Aktienmarkt - Eine Zeitserienanalyse mit Python\"\n",
    "\n",
    "In diesem Workshop geht es um Finanzbildung mit Fokus auf Aktienmarkt und Fonds. Ich möchte einen Einblick in das Sparen am Aktienmarkt und die damit verbundenen Chancen und Risiken geben. Mit Rücksicht auf das Verständnis nähern wir uns dem Thema graphisch und analysieren Zeitserien bzw. Aktienkurse mit Python und jupyter-notebooks.\n",
    "Der Workshop soll aus folgenden Teilen bestehen:\n",
    "1. Im Rahmen eines kurzen Planspieles möchte ich zeigen, warum Sparen am Aktienmarkt auch gesellschaftliche Partizipation bedeutet und warum Aktien nicht nur \"für reiche sind\".\n",
    "2. Welche gesellschaftlichen Probleme ergeben sich infolge unterschiedlicher Finanzbildung?\n",
    "3. Woher bekommt man aktuelle und historische Kursdaten?\n",
    "4. Wie setzt sich ein Indexfonds aus Aktien zusammen?\n",
    "5. Wie berechne ich mit den Daten einen Beispielsparplan?\n",
    "6. Wie schaffe ich mir einen übersichtlichen Blick in die Vergangenheit? Rendite und Renditedreieck.\n",
    "\n",
    "\"Ich würde gern mit Ihnen über Geld sprechen\"\n",
    "\n"
   ]
  },
  {
   "cell_type": "markdown",
   "metadata": {},
   "source": [
    "## Planspiel"
   ]
  },
  {
   "cell_type": "markdown",
   "metadata": {},
   "source": [
    "Monatliches Einkommen dreier verschiedener Biographien:\n",
    "1. Einzelhandel-Mitarbeiterin: 2000 Euro brutto im Schnitt\n",
    "2. Öffentlicher Dienst Wissenschaftliche Mitarbeiterin E13: 4000 Euro brutto\n",
    "3. Öffentlicher Dienst Wissenschaftliche Mitarbeiterin E13: 4000 Euro brutto + 100000 Euro Erbe \n",
    "4. Friedrich Merz: 1e6 Euro (Fiktives Einkommen eines fiktiven Charakters mit dem hier zufällig gewählten Namen.)\n",
    "\n",
    "Voraussetzung: Soziale Ungleichheit durch Einkommens- und Vermögensverteilung, politisches Problem"
   ]
  },
  {
   "cell_type": "markdown",
   "metadata": {},
   "source": [
    "### Sparen ohne Zins"
   ]
  },
  {
   "cell_type": "markdown",
   "metadata": {},
   "source": [
    "Annahme: Einzelhandelsmitarbeiterin Kann 50 Euro im Monat zurücklegen"
   ]
  },
  {
   "cell_type": "code",
   "execution_count": 5,
   "metadata": {},
   "outputs": [],
   "source": [
    "einzelhandel = CumulativeCalculation(initial_balance=0, start=\"2019-01-01\", stop=\"2039-01-01\", deposit=50, repetition=\"M\")"
   ]
  },
  {
   "cell_type": "code",
   "execution_count": 6,
   "metadata": {},
   "outputs": [],
   "source": [
    "einzelhandel.calc_interest()"
   ]
  },
  {
   "cell_type": "code",
   "execution_count": 7,
   "metadata": {},
   "outputs": [
    {
     "data": {
      "text/html": [
       "<div>\n",
       "<style scoped>\n",
       "    .dataframe tbody tr th:only-of-type {\n",
       "        vertical-align: middle;\n",
       "    }\n",
       "\n",
       "    .dataframe tbody tr th {\n",
       "        vertical-align: top;\n",
       "    }\n",
       "\n",
       "    .dataframe thead th {\n",
       "        text-align: right;\n",
       "    }\n",
       "</style>\n",
       "<table border=\"1\" class=\"dataframe\">\n",
       "  <thead>\n",
       "    <tr style=\"text-align: right;\">\n",
       "      <th></th>\n",
       "      <th>value</th>\n",
       "      <th>deposit</th>\n",
       "    </tr>\n",
       "    <tr>\n",
       "      <th>Date</th>\n",
       "      <th></th>\n",
       "      <th></th>\n",
       "    </tr>\n",
       "  </thead>\n",
       "  <tbody>\n",
       "    <tr>\n",
       "      <th>2019-01-01</th>\n",
       "      <td>0.0</td>\n",
       "      <td>0.0</td>\n",
       "    </tr>\n",
       "    <tr>\n",
       "      <th>2019-01-02</th>\n",
       "      <td>0.0</td>\n",
       "      <td>0.0</td>\n",
       "    </tr>\n",
       "    <tr>\n",
       "      <th>2019-01-03</th>\n",
       "      <td>0.0</td>\n",
       "      <td>0.0</td>\n",
       "    </tr>\n",
       "    <tr>\n",
       "      <th>2019-01-04</th>\n",
       "      <td>0.0</td>\n",
       "      <td>0.0</td>\n",
       "    </tr>\n",
       "    <tr>\n",
       "      <th>2019-01-05</th>\n",
       "      <td>0.0</td>\n",
       "      <td>0.0</td>\n",
       "    </tr>\n",
       "  </tbody>\n",
       "</table>\n",
       "</div>"
      ],
      "text/plain": [
       "            value  deposit\n",
       "Date                      \n",
       "2019-01-01    0.0      0.0\n",
       "2019-01-02    0.0      0.0\n",
       "2019-01-03    0.0      0.0\n",
       "2019-01-04    0.0      0.0\n",
       "2019-01-05    0.0      0.0"
      ]
     },
     "execution_count": 7,
     "metadata": {},
     "output_type": "execute_result"
    }
   ],
   "source": [
    "einzelhandel.df.head()"
   ]
  },
  {
   "cell_type": "code",
   "execution_count": 8,
   "metadata": {
    "scrolled": false
   },
   "outputs": [
    {
     "data": {
      "application/vnd.jupyter.widget-view+json": {
       "model_id": "",
       "version_major": 2,
       "version_minor": 0
      },
      "text/plain": [
       "FigureCanvasNbAgg()"
      ]
     },
     "metadata": {},
     "output_type": "display_data"
    }
   ],
   "source": [
    "f, (ax1, ax2) = plt.subplots(1, 2, sharey=False, figsize=(8,3))\n",
    "einzelhandel.df.value.plot(ax=ax1)\n",
    "ax1.set_ylabel(\"Deposit\")\n",
    "ax1.set_xlabel(\"Date\")\n",
    "einzelhandel.df.value.plot(ax=ax2)\n",
    "ax2.set_xlim(\"2020-12-01\",\"2022-12-01\")\n",
    "ax2.set_ylim(1000,2500)\n",
    "plt.tight_layout()\n"
   ]
  },
  {
   "cell_type": "markdown",
   "metadata": {},
   "source": [
    "Prizip Sparplan gut erkennbar: Es kommt monatlich ein fixer Betrag dazu."
   ]
  },
  {
   "cell_type": "code",
   "execution_count": 9,
   "metadata": {},
   "outputs": [],
   "source": [
    "wiss = CumulativeCalculation(initial_balance=0, start=\"2019-01-01\", stop=\"2039-01-01\", deposit=200,repetition=\"M\")\n",
    "wiss.calc_interest()\n",
    "merz = CumulativeCalculation(initial_balance=0, start=\"2019-01-01\", stop=\"2039-01-01\", deposit=1e6/4/12,repetition=\"M\")\n",
    "merz.calc_interest()\n",
    "wiss_mit_erbe = CumulativeCalculation(initial_balance=1e5, start=\"2019-01-01\", stop=\"2039-01-01\", deposit=200,repetition=\"M\")\n",
    "wiss_mit_erbe.calc_interest()\n"
   ]
  },
  {
   "cell_type": "code",
   "execution_count": 10,
   "metadata": {},
   "outputs": [
    {
     "data": {
      "application/vnd.jupyter.widget-view+json": {
       "model_id": "",
       "version_major": 2,
       "version_minor": 0
      },
      "text/plain": [
       "FigureCanvasNbAgg()"
      ]
     },
     "metadata": {},
     "output_type": "display_data"
    }
   ],
   "source": [
    "#Lin Scale\n",
    "fig = plt.figure(num=\"Deposit1\",figsize=(8,5))\n",
    "einzelhandel.df.value.plot(label=\"Einzelhandel\")\n",
    "wiss.df.value.plot(label=\"WiMi\")\n",
    "wiss_mit_erbe.df.value.plot(label=\"Wiss. Mitarb. mit Erbe\")\n",
    "merz.df.value.plot(label=\"merz\")\n",
    "plt.ylabel(\"Deposit\")\n",
    "plt.xlabel(\"Date\")\n",
    "plt.ylim(-0.1e7,0.5e7)\n",
    "plt.legend()\n",
    "plt.tight_layout()\n"
   ]
  },
  {
   "cell_type": "code",
   "execution_count": 11,
   "metadata": {},
   "outputs": [],
   "source": [
    "#Log-Scale\n",
    "plt.ylim(100,3e7)\n",
    "plt.yscale(\"log\")"
   ]
  },
  {
   "cell_type": "markdown",
   "metadata": {},
   "source": [
    "Bis hierher ist alles wie erwartet:\n",
    "- Die Vermögensschere geht mit der Zeit auf, weil die Einkommen ungleich sind\n",
    "- Aber: Die Vermögensschere geht nicht überproportional auf (Kurven sind parallel)\n",
    "- Das bleibt auch so, wenn wir die Inflation mit einbeziehen.\n",
    "- Was ist der Unterschied?\n",
    "\n",
    "Folgender Fall: Unterschiedliche Finanzbildung macht das Aufgehen der Schere überproportional:\n",
    "- Merz spart in Aktien\n",
    "- Wiss. Mitarbeiterin spart vielleicht in Aktien\n",
    "- Einzelhandelskauffrau spart wahrscheinlich nicht in Aktien"
   ]
  },
  {
   "cell_type": "markdown",
   "metadata": {},
   "source": [
    "### Sparen mit Zins 7% nur für merz"
   ]
  },
  {
   "cell_type": "code",
   "execution_count": 12,
   "metadata": {},
   "outputs": [],
   "source": [
    "einzelhandel = CumulativeCalculation(initial_balance=0, start=\"2019-01-01\", stop=\"2039-01-01\", deposit=50,repetition=\"M\", interest = 0.)\n",
    "einzelhandel.calc_interest()\n",
    "wiss = CumulativeCalculation(initial_balance=0, start=\"2019-01-01\", stop=\"2039-01-01\", deposit=200,repetition=\"M\", interest = 0.)\n",
    "wiss.calc_interest()\n",
    "merz7 = CumulativeCalculation(initial_balance=0, start=\"2019-01-01\", stop=\"2039-01-01\", deposit=1e6/4/12,repetition=\"M\", interest = 7.)\n",
    "merz7.calc_interest()"
   ]
  },
  {
   "cell_type": "code",
   "execution_count": 13,
   "metadata": {
    "scrolled": false
   },
   "outputs": [
    {
     "data": {
      "application/vnd.jupyter.widget-view+json": {
       "model_id": "",
       "version_major": 2,
       "version_minor": 0
      },
      "text/plain": [
       "FigureCanvasNbAgg()"
      ]
     },
     "metadata": {},
     "output_type": "display_data"
    }
   ],
   "source": [
    "fig = plt.figure(num=\"deposit with 7% interest\")\n",
    "einzelhandel.df.value.plot(label=\"Einzelhandel\")\n",
    "wiss.df.value.plot(label=\"WiMi\")\n",
    "merz7.df.value.plot(label=\"merz\")\n",
    "plt.ylabel(\"Deposit (Euro)\")\n",
    "plt.xlabel(\"Date\")\n",
    "plt.ylim(-0.1e7,1.5e7)\n",
    "plt.legend()\n",
    "plt.tight_layout()"
   ]
  },
  {
   "cell_type": "code",
   "execution_count": 14,
   "metadata": {},
   "outputs": [],
   "source": [
    "plt.ylim(100,6e7)\n",
    "plt.yscale(\"log\")"
   ]
  },
  {
   "cell_type": "markdown",
   "metadata": {},
   "source": [
    "Sieht aus wie ohne Zins...?!"
   ]
  },
  {
   "cell_type": "markdown",
   "metadata": {},
   "source": [
    "Aber wie ist das Verhältnis der verschiedenen Vermögen? Beispiel: Vermögen Friedrich Merz mit wissensch. Mitarbeiterin ohne Erbe"
   ]
  },
  {
   "cell_type": "code",
   "execution_count": 15,
   "metadata": {},
   "outputs": [
    {
     "data": {
      "application/vnd.jupyter.widget-view+json": {
       "model_id": "",
       "version_major": 2,
       "version_minor": 0
      },
      "text/plain": [
       "FigureCanvasNbAgg()"
      ]
     },
     "metadata": {},
     "output_type": "display_data"
    }
   ],
   "source": [
    "plt.figure(\"Wealth Ratio\")\n",
    "plt.plot(merz.df.value/wiss.df.value, label= \"Ratio without interest\")\n",
    "plt.plot(merz7.df.value/wiss.df.value, label= \"Ratio with 7% interest for merz\")\n",
    "plt.legend()\n",
    "plt.xlabel(\"Date\")\n",
    "plt.ylabel(\"Wealth ratio\")\n",
    "plt.tight_layout()\n"
   ]
  },
  {
   "cell_type": "markdown",
   "metadata": {},
   "source": [
    "Fazit: Mit zunehmender Anlagezeit geht die Vermögensschere immer weiter auf, unabhängig vom Einkommen!\n",
    "- Das Bedeutet Mittelfristig eine Umverteilung von Gütern\n",
    "- Noch wesentlicher: Umverteilung von Produktionsmitteln\n",
    "\n",
    "Frage: Wie schafft Merz 7%?"
   ]
  },
  {
   "cell_type": "markdown",
   "metadata": {},
   "source": [
    "### Sparen mit Zins 7% für alle"
   ]
  },
  {
   "cell_type": "code",
   "execution_count": 16,
   "metadata": {},
   "outputs": [],
   "source": [
    "einzelhandel7 = CumulativeCalculation(initial_balance=0, start=\"2019-01-01\", stop=\"2039-01-01\", deposit=50,repetition=\"M\", interest = 7.)\n",
    "einzelhandel7.calc_interest()\n",
    "wiss7 = CumulativeCalculation(initial_balance=0, start=\"2019-01-01\", stop=\"2039-01-01\", deposit=200,repetition=\"M\", interest = 7.)\n",
    "wiss7.calc_interest()\n",
    "wiss_mit_erbe7 = CumulativeCalculation(initial_balance=1e5, start=\"2019-01-01\", stop=\"2039-01-01\", deposit=200,repetition=\"M\", interest=7.)\n",
    "wiss_mit_erbe7.calc_interest()\n",
    "merz7 = CumulativeCalculation(initial_balance=0, start=\"2019-01-01\", stop=\"2039-01-01\", deposit=1e6/4/12,repetition=\"M\", interest = 7.)\n",
    "merz7.calc_interest()"
   ]
  },
  {
   "cell_type": "code",
   "execution_count": 17,
   "metadata": {
    "scrolled": false
   },
   "outputs": [
    {
     "data": {
      "application/vnd.jupyter.widget-view+json": {
       "model_id": "",
       "version_major": 2,
       "version_minor": 0
      },
      "text/plain": [
       "FigureCanvasNbAgg()"
      ]
     },
     "metadata": {},
     "output_type": "display_data"
    }
   ],
   "source": [
    "fig = plt.figure(num=\"deposit with 7% interest for all\")\n",
    "einzelhandel7.df.value.plot(label=\"Einzelhandel\")\n",
    "wiss7.df.value.plot(label=\"WiMi\")\n",
    "merz7.df.value.plot(label=\"merz\")\n",
    "wiss_mit_erbe7.df.value.plot(label=\"WiMi mit Erbe\")\n",
    "plt.ylabel(\"Deposit (Euro)\")\n",
    "plt.xlabel(\"Date\")\n",
    "plt.ylim(-0.1e7,1.5e7)\n",
    "plt.legend()\n",
    "plt.tight_layout()"
   ]
  },
  {
   "cell_type": "code",
   "execution_count": 18,
   "metadata": {},
   "outputs": [],
   "source": [
    "plt.ylim(100,6e7)\n",
    "plt.yscale(\"log\")"
   ]
  },
  {
   "cell_type": "code",
   "execution_count": 19,
   "metadata": {},
   "outputs": [
    {
     "data": {
      "application/vnd.jupyter.widget-view+json": {
       "model_id": "",
       "version_major": 2,
       "version_minor": 0
      },
      "text/plain": [
       "FigureCanvasNbAgg()"
      ]
     },
     "metadata": {},
     "output_type": "display_data"
    }
   ],
   "source": [
    "plt.figure(\"Wealth Ratio 7% for all\")\n",
    "plt.plot(merz7.df.value/wiss.df.value, label= \"Ratio with 7% interest for merz\")\n",
    "plt.plot(merz7.df.value/wiss7.df.value, label= \"Ratio with 7% interest for all\")\n",
    "plt.plot(merz7.df.value/wiss_mit_erbe7.df.value, label=\"Ratio with 7% interest for Wiss_mit_erbe\")\n",
    "plt.legend()\n",
    "plt.xlabel(\"Date\")\n",
    "plt.ylabel(\"Wealth ratio\")\n",
    "plt.tight_layout()\n"
   ]
  },
  {
   "cell_type": "markdown",
   "metadata": {},
   "source": [
    "1. Was ist Altersvorsorge und warum spreche ich heute hauptsächlich über Aktien?\n",
    "   - Vorsorge für das Alter? Oder will ich das gar nicht? Will ich lieber Vorsorgen um mit 50 ein Haus in Kroatien zu kaufen?\n",
    "2. Warum ist die Aktie anderen Assettklassen vorzuziehen?\n",
    "3. Was macht der Kapitalismus? Die reichen werden reicher, die armen ärmer?\n",
    "4. Folge der Industralisierung: Teilhabe am Produktivkapital --> Frage: Wie am Produktivkapital teilhaben wenn kein Geld? Fondsrechner! 50 Euro."
   ]
  },
  {
   "cell_type": "markdown",
   "metadata": {},
   "source": [
    "## Vermögensverteilung in Deutschland und Aktienbesitz"
   ]
  },
  {
   "cell_type": "markdown",
   "metadata": {},
   "source": [
    "Quelle: https://www.sueddeutsche.de/wirtschaft/aktien-verteilung-deutschland-1.4076466"
   ]
  },
  {
   "cell_type": "markdown",
   "metadata": {},
   "source": [
    "![Verteilung](https://gfx.sueddeutsche.de/apps/e695940/www/_image_desktopw1840q70.png)"
   ]
  },
  {
   "cell_type": "markdown",
   "metadata": {},
   "source": [
    "1. Karte zeigen auf der die Vermögenssituation dargestellt ist\n",
    "2. Karte zeigen auf der der Aktienbesitz dargestellt ist.\n",
    "3. Kurzum: Aktienbesitz hängt am Vermögen uuuuuuuund an der Finanzbildung"
   ]
  },
  {
   "cell_type": "markdown",
   "metadata": {},
   "source": [
    "# Hauptteil"
   ]
  },
  {
   "cell_type": "markdown",
   "metadata": {},
   "source": [
    "## Woher kommen Aktien? Warum gibt es Aktien?"
   ]
  },
  {
   "cell_type": "markdown",
   "metadata": {},
   "source": [
    "Ohne näher in die Geschichte gehen zu wollen: Wenn man ein Unternehmen besitzt (keine Aktiengesellschaft), muss man sich manchmal Geld besorgen. Beispiel: Habe kleines Unternehmen und ersaufe in Aufträgen,"
   ]
  },
  {
   "cell_type": "markdown",
   "metadata": {},
   "source": [
    "## Das Modell Volkseigentum"
   ]
  },
  {
   "cell_type": "markdown",
   "metadata": {},
   "source": [
    "Sozialistischer Ansatz Volkseigentum:\n",
    " 1. Bin kein Ökonom, aber in der DDR hat das sogenannte Volkseigentum dazu geführt, dass in vielen Betrieben das Material als niemandem zugehörig angesehen wurde. Bei meiner Oma im Porzellanwerk haben besoffene Brennmeister regelmäßig ganze Chargen verbrennen lassen. (Nochmal checken), 98% der Produktionsmittel VEB\n",
    " 2. Im Sinne einer Allmende funktioniert das noch, da es eine soziale Kontrolle des Gemeinschaftseigentums in kleinen Dorfgemeinschaften gibt\n",
    " 3. Darüber hinaus hat dieser Ansatz zu einem hohen Maß an wirtschaftskriminalität geführt --> Diebstähle in den VEB \n",
    " 4. Wie sieht das heute aus? Vor allem in den alten Bundesländern\n",
    " 5. Keine Private Bindung ans Unternehmen."
   ]
  },
  {
   "cell_type": "markdown",
   "metadata": {},
   "source": [
    "Bis zur Gründung der DDR 1949 war bereits etwa die Hälfte aller Produktionsmittel in Volks- und Gemeineigentum überführt worden. Der Sprecher des „Amtes zum Schutz des Volkseigentums“ im sächsischen Landtag zeigte sich im März 1949\n",
    "\n",
    "    „nicht davon überzeugt, daß allen Menschen das Volkseigentum bereits ans Herz gewachsen ist, daß sie es beginnen zu schützen. [...] Einer der größten Faktoren für Schäden, die in den volkseigenen Betrieben eintreten, liegt in der Nachlässigkeit der Menschen [...], in dem großen Abstand, den sie heute noch gegenüber dem Volkseigentum haben.[11]“\n",
    "\n",
    "Stichwort: Volkseigen immer noch präsent, wenn geklaut wird."
   ]
  },
  {
   "cell_type": "markdown",
   "metadata": {},
   "source": [
    "## Die Aktie als Instrument der gesellschaftlichen Teilhabe"
   ]
  },
  {
   "cell_type": "markdown",
   "metadata": {},
   "source": [
    " 1. Gegenüberstellung aller deutschen Rentenzahlungen mit den Fondskäufen in privathaushalten\n",
    " 2. Was soll uns das? Asozial wenn alle in Aktien investieren, Rentensystem ist Generationenvertrag\n",
    " 3. Aktienbesitz Ost-West --> Unterschiede in der Vermögensentwicklung\n",
    " 4. Stefan Schulz (u.a. Aufwachen-Podcast) argumentiert mit gesellschaftlicher Teilhabe unabhängig von Aktien --> Wenn der Markt seit der Wende wächst, der Osten aber keinen Teil vom Kuchen abbekommt, wieso sollte Demokratie dann mit Wohlstand identifiziert werden? --> Fehlende Identifikation mit ortsansässigen Unternehmen und Deutschlandweit agierenden Unternehmen.\n",
    " 5. Verstärkt Ohnmachtgefühle, fehlendes Mitspracherecht bei Hauptversammlungen.\n",
    " 6. Marktanteile von privathaushalten fehlen überwiegend in Deutschland, im Osten ganz\n"
   ]
  },
  {
   "cell_type": "markdown",
   "metadata": {},
   "source": [
    "# Aktien"
   ]
  },
  {
   "cell_type": "markdown",
   "metadata": {},
   "source": [
    "![Aktie](https://upload.wikimedia.org/wikipedia/commons/f/fe/RWE_1910.jpg)"
   ]
  },
  {
   "cell_type": "markdown",
   "metadata": {},
   "source": [
    "## Daten - woher?"
   ]
  },
  {
   "cell_type": "markdown",
   "metadata": {},
   "source": [
    "- Wir brauchen historische bzw. aktuelle Aktienkurse beliebiger Aktien.\n",
    "- Dazu gibt es schon Bibliotheken in python, pandas_datareader\n",
    "- Verschiedene *Datenhändler* wie **quandl**, **alphavantage** bieten API-Keys und wollen extra-Pakete verkaufen\n",
    "- Web-scraping von **google_finanace**, **yahoo_finanace**, **wikipedia**, auch da gibt es bereits Bibliotheken wie *pandas_datareader*"
   ]
  },
  {
   "cell_type": "code",
   "execution_count": 20,
   "metadata": {},
   "outputs": [
    {
     "name": "stdout",
     "output_type": "stream",
     "text": [
      "[*********************100%***********************]  1 of 1 downloaded\n"
     ]
    },
    {
     "data": {
      "text/html": [
       "<div>\n",
       "<style scoped>\n",
       "    .dataframe tbody tr th:only-of-type {\n",
       "        vertical-align: middle;\n",
       "    }\n",
       "\n",
       "    .dataframe tbody tr th {\n",
       "        vertical-align: top;\n",
       "    }\n",
       "\n",
       "    .dataframe thead th {\n",
       "        text-align: right;\n",
       "    }\n",
       "</style>\n",
       "<table border=\"1\" class=\"dataframe\">\n",
       "  <thead>\n",
       "    <tr style=\"text-align: right;\">\n",
       "      <th></th>\n",
       "      <th>open</th>\n",
       "      <th>high</th>\n",
       "      <th>low</th>\n",
       "      <th>close</th>\n",
       "      <th>volume</th>\n",
       "    </tr>\n",
       "  </thead>\n",
       "  <tbody>\n",
       "    <tr>\n",
       "      <th>1999-01-22</th>\n",
       "      <td>21.00</td>\n",
       "      <td>23.44</td>\n",
       "      <td>18.63</td>\n",
       "      <td>19.69</td>\n",
       "      <td>5655600</td>\n",
       "    </tr>\n",
       "    <tr>\n",
       "      <th>1999-01-25</th>\n",
       "      <td>21.25</td>\n",
       "      <td>22.00</td>\n",
       "      <td>19.69</td>\n",
       "      <td>21.75</td>\n",
       "      <td>1063500</td>\n",
       "    </tr>\n",
       "    <tr>\n",
       "      <th>1999-01-26</th>\n",
       "      <td>22.00</td>\n",
       "      <td>22.44</td>\n",
       "      <td>19.75</td>\n",
       "      <td>20.06</td>\n",
       "      <td>715000</td>\n",
       "    </tr>\n",
       "    <tr>\n",
       "      <th>1999-01-27</th>\n",
       "      <td>20.13</td>\n",
       "      <td>20.63</td>\n",
       "      <td>19.00</td>\n",
       "      <td>20.00</td>\n",
       "      <td>509100</td>\n",
       "    </tr>\n",
       "    <tr>\n",
       "      <th>1999-01-28</th>\n",
       "      <td>20.00</td>\n",
       "      <td>20.13</td>\n",
       "      <td>19.81</td>\n",
       "      <td>19.94</td>\n",
       "      <td>474000</td>\n",
       "    </tr>\n",
       "  </tbody>\n",
       "</table>\n",
       "</div>"
      ],
      "text/plain": [
       "             open   high    low  close   volume\n",
       "1999-01-22  21.00  23.44  18.63  19.69  5655600\n",
       "1999-01-25  21.25  22.00  19.69  21.75  1063500\n",
       "1999-01-26  22.00  22.44  19.75  20.06   715000\n",
       "1999-01-27  20.13  20.63  19.00  20.00   509100\n",
       "1999-01-28  20.00  20.13  19.81  19.94   474000"
      ]
     },
     "execution_count": 20,
     "metadata": {},
     "output_type": "execute_result"
    }
   ],
   "source": [
    "import fix_yahoo_finance as yf\n",
    "from pandas_datareader import data as pdr\n",
    "#import pandas_datareader as pdr\n",
    "data_nvda = pdr.get_data_yahoo(\"NVDA\",\"1970-12-12\",\"2018-12-14\")\n",
    "data_nvda_source = pdr.get_data_alphavantage(\"NVDA\",function='TIME_SERIES_DAILY',\n",
    "                                             start=\"1970-12-12\",end=\"2018-12-14\", api_key=\"1X6D9DKKAQD7BPWV\")\n",
    "data_nvda_source.index = pd.to_datetime(data_nvda_source.index)\n",
    "\n",
    "\n",
    "data_nvda_source.head()"
   ]
  },
  {
   "cell_type": "code",
   "execution_count": 21,
   "metadata": {},
   "outputs": [
    {
     "data": {
      "text/html": [
       "<div>\n",
       "<style scoped>\n",
       "    .dataframe tbody tr th:only-of-type {\n",
       "        vertical-align: middle;\n",
       "    }\n",
       "\n",
       "    .dataframe tbody tr th {\n",
       "        vertical-align: top;\n",
       "    }\n",
       "\n",
       "    .dataframe thead th {\n",
       "        text-align: right;\n",
       "    }\n",
       "</style>\n",
       "<table border=\"1\" class=\"dataframe\">\n",
       "  <thead>\n",
       "    <tr style=\"text-align: right;\">\n",
       "      <th></th>\n",
       "      <th>Open</th>\n",
       "      <th>High</th>\n",
       "      <th>Low</th>\n",
       "      <th>Close</th>\n",
       "      <th>Adj Close</th>\n",
       "      <th>Volume</th>\n",
       "    </tr>\n",
       "    <tr>\n",
       "      <th>Date</th>\n",
       "      <th></th>\n",
       "      <th></th>\n",
       "      <th></th>\n",
       "      <th></th>\n",
       "      <th></th>\n",
       "      <th></th>\n",
       "    </tr>\n",
       "  </thead>\n",
       "  <tbody>\n",
       "    <tr>\n",
       "      <th>2018-12-07</th>\n",
       "      <td>158.460007</td>\n",
       "      <td>158.869995</td>\n",
       "      <td>145.619995</td>\n",
       "      <td>147.610001</td>\n",
       "      <td>147.610001</td>\n",
       "      <td>17041900</td>\n",
       "    </tr>\n",
       "    <tr>\n",
       "      <th>2018-12-10</th>\n",
       "      <td>145.800003</td>\n",
       "      <td>152.860001</td>\n",
       "      <td>145.649994</td>\n",
       "      <td>151.860001</td>\n",
       "      <td>151.860001</td>\n",
       "      <td>15736800</td>\n",
       "    </tr>\n",
       "    <tr>\n",
       "      <th>2018-12-11</th>\n",
       "      <td>155.559998</td>\n",
       "      <td>155.889999</td>\n",
       "      <td>145.000000</td>\n",
       "      <td>148.190002</td>\n",
       "      <td>148.190002</td>\n",
       "      <td>16797800</td>\n",
       "    </tr>\n",
       "    <tr>\n",
       "      <th>2018-12-12</th>\n",
       "      <td>148.419998</td>\n",
       "      <td>152.779999</td>\n",
       "      <td>144.820007</td>\n",
       "      <td>148.899994</td>\n",
       "      <td>148.899994</td>\n",
       "      <td>16353400</td>\n",
       "    </tr>\n",
       "    <tr>\n",
       "      <th>2018-12-13</th>\n",
       "      <td>150.789993</td>\n",
       "      <td>153.380005</td>\n",
       "      <td>147.440002</td>\n",
       "      <td>148.889999</td>\n",
       "      <td>148.889999</td>\n",
       "      <td>11784600</td>\n",
       "    </tr>\n",
       "  </tbody>\n",
       "</table>\n",
       "</div>"
      ],
      "text/plain": [
       "                  Open        High         Low       Close   Adj Close  \\\n",
       "Date                                                                     \n",
       "2018-12-07  158.460007  158.869995  145.619995  147.610001  147.610001   \n",
       "2018-12-10  145.800003  152.860001  145.649994  151.860001  151.860001   \n",
       "2018-12-11  155.559998  155.889999  145.000000  148.190002  148.190002   \n",
       "2018-12-12  148.419998  152.779999  144.820007  148.899994  148.899994   \n",
       "2018-12-13  150.789993  153.380005  147.440002  148.889999  148.889999   \n",
       "\n",
       "              Volume  \n",
       "Date                  \n",
       "2018-12-07  17041900  \n",
       "2018-12-10  15736800  \n",
       "2018-12-11  16797800  \n",
       "2018-12-12  16353400  \n",
       "2018-12-13  11784600  "
      ]
     },
     "execution_count": 21,
     "metadata": {},
     "output_type": "execute_result"
    }
   ],
   "source": [
    "data_nvda.tail()"
   ]
  },
  {
   "cell_type": "code",
   "execution_count": 22,
   "metadata": {},
   "outputs": [
    {
     "data": {
      "text/plain": [
       "<matplotlib.axes._subplots.AxesSubplot at 0x1c7afe6fba8>"
      ]
     },
     "execution_count": 22,
     "metadata": {},
     "output_type": "execute_result"
    }
   ],
   "source": [
    "data_nvda[\"Close\"].plot()\n",
    "\n"
   ]
  },
  {
   "cell_type": "code",
   "execution_count": 23,
   "metadata": {},
   "outputs": [],
   "source": [
    "data_gold = pdr.get_data_quandl(\"WGC/GOLD_DAILY_USD\", api_key='TAJWxRm_yayb-Avh1pkT')"
   ]
  },
  {
   "cell_type": "code",
   "execution_count": 24,
   "metadata": {},
   "outputs": [
    {
     "data": {
      "text/html": [
       "<div>\n",
       "<style scoped>\n",
       "    .dataframe tbody tr th:only-of-type {\n",
       "        vertical-align: middle;\n",
       "    }\n",
       "\n",
       "    .dataframe tbody tr th {\n",
       "        vertical-align: top;\n",
       "    }\n",
       "\n",
       "    .dataframe thead th {\n",
       "        text-align: right;\n",
       "    }\n",
       "</style>\n",
       "<table border=\"1\" class=\"dataframe\">\n",
       "  <thead>\n",
       "    <tr style=\"text-align: right;\">\n",
       "      <th></th>\n",
       "      <th>Value</th>\n",
       "    </tr>\n",
       "    <tr>\n",
       "      <th>Date</th>\n",
       "      <th></th>\n",
       "    </tr>\n",
       "  </thead>\n",
       "  <tbody>\n",
       "    <tr>\n",
       "      <th>2019-02-22</th>\n",
       "      <td>1329.05</td>\n",
       "    </tr>\n",
       "    <tr>\n",
       "      <th>2019-02-21</th>\n",
       "      <td>1331.25</td>\n",
       "    </tr>\n",
       "    <tr>\n",
       "      <th>2019-02-20</th>\n",
       "      <td>1343.75</td>\n",
       "    </tr>\n",
       "    <tr>\n",
       "      <th>2019-02-19</th>\n",
       "      <td>1334.15</td>\n",
       "    </tr>\n",
       "    <tr>\n",
       "      <th>2019-02-18</th>\n",
       "      <td>1325.50</td>\n",
       "    </tr>\n",
       "  </tbody>\n",
       "</table>\n",
       "</div>"
      ],
      "text/plain": [
       "              Value\n",
       "Date               \n",
       "2019-02-22  1329.05\n",
       "2019-02-21  1331.25\n",
       "2019-02-20  1343.75\n",
       "2019-02-19  1334.15\n",
       "2019-02-18  1325.50"
      ]
     },
     "execution_count": 24,
     "metadata": {},
     "output_type": "execute_result"
    }
   ],
   "source": [
    "data_gold.head()"
   ]
  },
  {
   "cell_type": "code",
   "execution_count": 25,
   "metadata": {},
   "outputs": [
    {
     "data": {
      "application/vnd.jupyter.widget-view+json": {
       "model_id": "",
       "version_major": 2,
       "version_minor": 0
      },
      "text/plain": [
       "FigureCanvasNbAgg()"
      ]
     },
     "metadata": {},
     "output_type": "display_data"
    }
   ],
   "source": [
    "data_gold.plot(label=\"Gold\")\n",
    "plt.ylabel(\"Price ($)\")\n",
    "plt.tight_layout()"
   ]
  },
  {
   "cell_type": "code",
   "execution_count": 26,
   "metadata": {},
   "outputs": [
    {
     "data": {
      "text/plain": [
       "Text(34.5, 0.5, 'Schlusskurs ($)')"
      ]
     },
     "execution_count": 26,
     "metadata": {},
     "output_type": "execute_result"
    }
   ],
   "source": [
    "data_nvda[\"Close\"].plot()\n",
    "plt.ylabel(\"Schlusskurs ($)\")"
   ]
  },
  {
   "cell_type": "markdown",
   "metadata": {},
   "source": [
    "## Beispiele:"
   ]
  },
  {
   "cell_type": "markdown",
   "metadata": {},
   "source": [
    "NASDAQ:\n",
    "- Nvidia\n",
    "- Vodafone..."
   ]
  },
  {
   "cell_type": "code",
   "execution_count": 27,
   "metadata": {},
   "outputs": [
    {
     "name": "stdout",
     "output_type": "stream",
     "text": [
      "[*********************100%***********************]  1 of 1 downloaded\n"
     ]
    }
   ],
   "source": [
    "data_vod = pdr.get_data_yahoo(\"VOD\",\"2000-12-12\",\"2018-12-28\")\n"
   ]
  },
  {
   "cell_type": "code",
   "execution_count": 28,
   "metadata": {},
   "outputs": [
    {
     "data": {
      "application/vnd.jupyter.widget-view+json": {
       "model_id": "",
       "version_major": 2,
       "version_minor": 0
      },
      "text/plain": [
       "FigureCanvasNbAgg()"
      ]
     },
     "metadata": {},
     "output_type": "display_data"
    }
   ],
   "source": [
    "plt.figure()\n",
    "data_vod[\"Close\"].plot(label=\"Vodafone\")\n",
    "data_nvda[\"Close\"].plot(label=\"nvidia\")\n",
    "plt.legend()\n",
    "plt.ylabel(\"Price ($)\")\n",
    "plt.tight_layout()"
   ]
  },
  {
   "cell_type": "markdown",
   "metadata": {},
   "source": [
    "Welchen Gewinn hätte ich gemacht wenn....???\n",
    "An der Stelle haben wir im Workshop auch Dividendenausschüttungen diskutiert, die genau in diesem Fall auch das Ergebnis beeinflussen. Nvidia schüttet nichts aus, Vodafone schon. Das beeinflusst auch den Börsenwert und verzerrt den Vergleich. Wird hier nicht weiter berücksichtigt ist aber wichtig zu wissen."
   ]
  },
  {
   "cell_type": "markdown",
   "metadata": {},
   "source": [
    "## Performanceberechnung"
   ]
  },
  {
   "cell_type": "markdown",
   "metadata": {},
   "source": [
    "Beispiel NVIDIA, Viele machen ihr machine learning und Ihre Trainingsvorgänge auf NVIDIA Grafikkarten, spielen seit Jahren auf Nvidia Grafikkarten, haben schon viel Geld in invidia Hardware investiert und ärgern sich wie teuer die sind: NVidia Kurs:"
   ]
  },
  {
   "cell_type": "code",
   "execution_count": 29,
   "metadata": {},
   "outputs": [
    {
     "name": "stdout",
     "output_type": "stream",
     "text": [
      "Warning: Cannot change to a different GUI toolkit: notebook. Using ipympl instead.\n"
     ]
    }
   ],
   "source": [
    "from pandas_datareader import data as pdr\n",
    "import pandas as pd\n",
    "import matplotlib.pyplot as plt\n",
    "import fix_yahoo_finance as yf\n",
    "#plt.xkcd()\n",
    "%matplotlib notebook\n",
    "yf.pdr_override() \n",
    "stock_list = []\n",
    "\n",
    "def plot_performance(stocks, start, end):\n",
    "    stock_list = []\n",
    "    for stock in stocks:\n",
    "        stock_list.append(pdr.get_data_yahoo(stock,start,end)[\"Close\"])\n",
    "    df = pd.concat(tuple(stock_list), axis=1, keys=stocks)\n",
    "    stocks_return = df.apply(lambda x: 1*x/x[0])# *1 für Bezug zu Anfangswert 1\n",
    "    return stocks_return\n",
    "\n",
    "def plot_stock_values(stocks, start, end):\n",
    "    stock_list = []\n",
    "    for stock in stocks:\n",
    "        stock_list.append(pdr.get_data_yahoo(stock,start,end)[\"Close\"])\n",
    "    df = pd.concat(tuple(stock_list), axis=1, keys=stocks)\n",
    "    stocks_return = df\n",
    "    return stocks_return\n",
    "\n",
    "def plot_edelm(edelm, start, end):\n",
    "    return pdr.get_data_yahoo(stock,start,end)\n",
    "   "
   ]
  },
  {
   "cell_type": "code",
   "execution_count": 30,
   "metadata": {
    "scrolled": false
   },
   "outputs": [
    {
     "name": "stdout",
     "output_type": "stream",
     "text": [
      "[*********************100%***********************]  1 of 1 downloaded\n",
      "[*********************100%***********************]  1 of 1 downloaded\n",
      "[*********************100%***********************]  1 of 1 downloaded\n",
      "[*********************100%***********************]  1 of 1 downloaded\n",
      "[*********************100%***********************]  1 of 1 downloaded\n",
      "[*********************100%***********************]  1 of 1 downloaded\n",
      "[*********************100%***********************]  1 of 1 downloaded\n",
      "[*********************100%***********************]  1 of 1 downloaded\n",
      "[*********************100%***********************]  1 of 1 downloaded\n",
      "[*********************100%***********************]  1 of 1 downloaded\n"
     ]
    },
    {
     "data": {
      "application/vnd.jupyter.widget-view+json": {
       "model_id": "80d10eccd1984cc9b80f2aa02c0348e4",
       "version_major": 2,
       "version_minor": 0
      },
      "text/plain": [
       "FigureCanvasNbAgg()"
      ]
     },
     "metadata": {},
     "output_type": "display_data"
    },
    {
     "data": {
      "application/vnd.jupyter.widget-view+json": {
       "model_id": "2e90a019d60e478c93a87c64f8ca8584",
       "version_major": 2,
       "version_minor": 0
      },
      "text/plain": [
       "FigureCanvasNbAgg()"
      ]
     },
     "metadata": {},
     "output_type": "display_data"
    },
    {
     "data": {
      "application/vnd.jupyter.widget-view+json": {
       "model_id": "f83d24f591004b8ba04df6dd73abb7c9",
       "version_major": 2,
       "version_minor": 0
      },
      "text/plain": [
       "FigureCanvasNbAgg()"
      ]
     },
     "metadata": {},
     "output_type": "display_data"
    }
   ],
   "source": [
    "stocks = [\"AAPL\",\"GOOG\",\"MSFT\",\"NVDA\", \"AMZN\"]\n",
    "temporal_range = ['2000-01-01', \"2018-12-05\"]\n",
    "df = plot_performance(stocks,start=temporal_range[0], end=temporal_range[1])\n",
    "df_values = plot_stock_values(stocks,start=temporal_range[0], end=temporal_range[1])\n",
    "df_values.plot(logy=False)\n",
    "df.plot(logy=False)\n",
    "plt.ylabel(\"Performance\")\n",
    "plt.tight_layout()\n",
    "df.plot(logy=True)\n",
    "plt.ylabel(\"Performance\")\n",
    "plt.tight_layout()\n",
    "#df_values.plot()\n",
    "#plt.figure(\"a\")\n",
    "#plt.plot(df[\"MSCI\"])"
   ]
  },
  {
   "cell_type": "markdown",
   "metadata": {},
   "source": [
    "Das war nur die Hälfte der Wahrheit...."
   ]
  },
  {
   "cell_type": "markdown",
   "metadata": {},
   "source": [
    "- Deutsche Bank Aktien\n",
    "- Dotcom Blase\n",
    "- Immobilienmarktkrise 2008\n",
    "- Ölkrise\n",
    "- Krise, Krise, Krise..."
   ]
  },
  {
   "cell_type": "markdown",
   "metadata": {},
   "source": [
    "## Streuen des Risikos: Diversifikation"
   ]
  },
  {
   "cell_type": "markdown",
   "metadata": {},
   "source": [
    "Apple, Johnson&Johnson, MMM, McDonalds, Procter&Gamble, Coca Cola, Walmart, Exxon, Boeing"
   ]
  },
  {
   "cell_type": "code",
   "execution_count": 31,
   "metadata": {
    "scrolled": false
   },
   "outputs": [
    {
     "name": "stdout",
     "output_type": "stream",
     "text": [
      "[*********************100%***********************]  1 of 1 downloaded\n",
      "[*********************100%***********************]  1 of 1 downloaded\n",
      "[*********************100%***********************]  1 of 1 downloaded\n",
      "[*********************100%***********************]  1 of 1 downloaded\n",
      "[*********************100%***********************]  1 of 1 downloaded\n",
      "[*********************100%***********************]  1 of 1 downloaded\n",
      "[*********************100%***********************]  1 of 1 downloaded\n",
      "[*********************100%***********************]  1 of 1 downloaded\n",
      "[*********************100%***********************]  1 of 1 downloaded\n",
      "[*********************100%***********************]  1 of 1 downloaded\n",
      "[*********************100%***********************]  1 of 1 downloaded\n",
      "[*********************100%***********************]  1 of 1 downloaded\n",
      "[*********************100%***********************]  1 of 1 downloaded\n",
      "[*********************100%***********************]  1 of 1 downloaded\n",
      "[*********************100%***********************]  1 of 1 downloaded\n",
      "[*********************100%***********************]  1 of 1 downloaded\n",
      "[*********************100%***********************]  1 of 1 downloaded\n",
      "[*********************100%***********************]  1 of 1 downloaded\n",
      "                AAPL       JNJ       MMM       MCD        PG        KO  \\\n",
      "Date                                                                     \n",
      "2014-12-31  1.000000  1.000000  1.000000  1.000000  1.000000  1.000000   \n",
      "2015-01-02  0.990487  0.999522  0.998418  0.995304  0.992864  0.998105   \n",
      "2015-01-05  0.962584  0.992541  0.975901  0.984312  0.988144  0.998105   \n",
      "2015-01-06  0.962674  0.987664  0.965494  0.986126  0.983643  1.005684   \n",
      "2015-01-07  0.976173  1.009467  0.972493  1.003308  0.988802  1.018238   \n",
      "\n",
      "                 WMT       XOM        BA  \n",
      "Date                                      \n",
      "2014-12-31  1.000000  1.000000  1.000000  \n",
      "2015-01-02  1.000233  1.004110  0.999769  \n",
      "2015-01-05  0.997322  0.976636  0.992845  \n",
      "2015-01-06  1.005007  0.971444  0.981151  \n",
      "2015-01-07  1.031672  0.981287  0.996384  \n",
      "                  AAPL         JNJ         MMM        MCD         PG  \\\n",
      "Date                                                                   \n",
      "2014-12-31  110.379997  104.570000  164.320007  93.699997  91.089996   \n",
      "2015-01-02  109.330002  104.519997  164.059998  93.260002  90.440002   \n",
      "2015-01-05  106.250000  103.790001  160.360001  92.230003  90.010002   \n",
      "2015-01-06  106.260002  103.279999  158.649994  92.400002  89.599998   \n",
      "2015-01-07  107.750000  105.559998  159.800003  94.010002  90.070000   \n",
      "\n",
      "                   KO        WMT        XOM          BA  \n",
      "Date                                                     \n",
      "2014-12-31  42.220001  85.879997  92.449997  129.979996  \n",
      "2015-01-02  42.139999  85.900002  92.830002  129.949997  \n",
      "2015-01-05  42.139999  85.650002  90.290001  129.050003  \n",
      "2015-01-06  42.459999  86.309998  89.809998  127.529999  \n",
      "2015-01-07  42.990002  88.599998  90.720001  129.509995  \n"
     ]
    },
    {
     "data": {
      "application/vnd.jupyter.widget-view+json": {
       "model_id": "48bdb7efca4a4e899fad461cc878adb1",
       "version_major": 2,
       "version_minor": 0
      },
      "text/plain": [
       "FigureCanvasNbAgg()"
      ]
     },
     "metadata": {},
     "output_type": "display_data"
    },
    {
     "data": {
      "application/vnd.jupyter.widget-view+json": {
       "model_id": "ed98ed93db814f2cba29eee40374df12",
       "version_major": 2,
       "version_minor": 0
      },
      "text/plain": [
       "FigureCanvasNbAgg()"
      ]
     },
     "metadata": {},
     "output_type": "display_data"
    },
    {
     "data": {
      "application/vnd.jupyter.widget-view+json": {
       "model_id": "983fbe79b80349578bb1779f6298f1d1",
       "version_major": 2,
       "version_minor": 0
      },
      "text/plain": [
       "FigureCanvasNbAgg()"
      ]
     },
     "metadata": {},
     "output_type": "display_data"
    }
   ],
   "source": [
    "stocks = [\"AAPL\",\"JNJ\",\"MMM\",\"MCD\", \"PG\", \"KO\",\"WMT\",\"XOM\",\"BA\"]\n",
    "temporal_range = ['2015-01-01', \"2018-12-05\"]\n",
    "df_values = plot_stock_values(stocks,start=temporal_range[0], end=temporal_range[1])\n",
    "df = plot_performance(stocks,start=temporal_range[0], end=temporal_range[1])\n",
    "print(df.head())\n",
    "print(df_values.head())\n",
    "fig, ax1 = plt.subplots(num=\"stock price log scale\")\n",
    "df_values.plot(ax=ax1, logy=True)\n",
    "ax1.set_ylabel(\"stock price ($)\")\n",
    "fig, ax2 = plt.subplots(num=\"Performance lin-scale\")\n",
    "df.plot(ax=ax2,logy=False)\n",
    "ax2.set_ylabel(\"performance\")\n",
    "fig, ax3 = plt.subplots(num=\"Performance log-scale\")\n",
    "df.plot(ax=ax3,logy=True)\n",
    "ax3.set_ylabel(\"performance\")\n",
    "plt.tight_layout()\n"
   ]
  },
  {
   "cell_type": "code",
   "execution_count": 32,
   "metadata": {},
   "outputs": [
    {
     "data": {
      "text/plain": [
       "['AAPL', 'JNJ', 'MMM', 'MCD', 'PG', 'KO', 'WMT', 'XOM', 'BA']"
      ]
     },
     "execution_count": 32,
     "metadata": {},
     "output_type": "execute_result"
    }
   ],
   "source": [
    "list(df)"
   ]
  },
  {
   "cell_type": "markdown",
   "metadata": {},
   "source": [
    "### Korrelation verschiedener Zeitserien"
   ]
  },
  {
   "cell_type": "markdown",
   "metadata": {},
   "source": [
    "Diesen Teil habe ich im Workshop übersprungen, man kann die Korrelation verschiedener Preisdaten innerhalb eines Zeitraumes berechnen und darstellen."
   ]
  },
  {
   "cell_type": "code",
   "execution_count": 33,
   "metadata": {},
   "outputs": [
    {
     "name": "stdout",
     "output_type": "stream",
     "text": [
      "          AAPL       JNJ       MMM       MCD        PG        KO       WMT  \\\n",
      "AAPL  1.000000  0.732543  0.747959  0.801665  0.139760  0.509861  0.798090   \n",
      "JNJ   0.732543  1.000000  0.917111  0.921561  0.568407  0.787830  0.709361   \n",
      "MMM   0.747959  0.917111  1.000000  0.880133  0.449765  0.655814  0.770623   \n",
      "MCD   0.801665  0.921561  0.880133  1.000000  0.327418  0.784662  0.689145   \n",
      "PG    0.139760  0.568407  0.449765  0.327418  1.000000  0.506788  0.329764   \n",
      "KO    0.509861  0.787830  0.655814  0.784662  0.506788  1.000000  0.570133   \n",
      "WMT   0.798090  0.709361  0.770623  0.689145  0.329764  0.570133  1.000000   \n",
      "XOM  -0.320323 -0.065423 -0.108918 -0.285840  0.324658  0.027876 -0.013953   \n",
      "BA    0.944591  0.754950  0.797365  0.861921  0.061007  0.556016  0.815201   \n",
      "\n",
      "           XOM        BA  \n",
      "AAPL -0.320323  0.944591  \n",
      "JNJ  -0.065423  0.754950  \n",
      "MMM  -0.108918  0.797365  \n",
      "MCD  -0.285840  0.861921  \n",
      "PG    0.324658  0.061007  \n",
      "KO    0.027876  0.556016  \n",
      "WMT  -0.013953  0.815201  \n",
      "XOM   1.000000 -0.331060  \n",
      "BA   -0.331060  1.000000  \n"
     ]
    },
    {
     "data": {
      "application/vnd.jupyter.widget-view+json": {
       "model_id": "a5f28d6053484fe8bf90e5fb13d543a6",
       "version_major": 2,
       "version_minor": 0
      },
      "text/plain": [
       "FigureCanvasNbAgg()"
      ]
     },
     "metadata": {},
     "output_type": "display_data"
    }
   ],
   "source": [
    "def visualize_data():\n",
    "    df_corr = df_values.corr()\n",
    "    print(df_corr)\n",
    "    df_corr.to_csv('sp500corr.csv')\n",
    "    data1 = df_corr.values\n",
    "    fig1 = plt.figure(\"Correlation\")\n",
    "    ax1 = fig1.add_subplot(111)\n",
    "    heatmap1 = ax1.pcolor(data1, cmap=plt.cm.RdYlGn)\n",
    "    cb = fig1.colorbar(heatmap1)\n",
    "    ax1.set_xticks(np.arange(data1.shape[1]) + 0.5, minor=False)\n",
    "    ax1.set_yticks(np.arange(data1.shape[0]) + 0.5, minor=False)\n",
    "    ax1.invert_yaxis()\n",
    "    ax1.xaxis.tick_top()\n",
    "    column_labels = df_corr.columns\n",
    "    row_labels = df_corr.index\n",
    "    ax1.set_xticklabels(column_labels)\n",
    "    ax1.set_yticklabels(row_labels)\n",
    "    plt.xticks(rotation=90)\n",
    "    heatmap1.set_clim(-1,1)\n",
    "    cb.ax.set_ylabel('Correlation')\n",
    "    plt.tight_layout()\n",
    "    \n",
    "visualize_data()"
   ]
  },
  {
   "cell_type": "markdown",
   "metadata": {},
   "source": [
    "### Berechnen eines *Durchschnittswertes*"
   ]
  },
  {
   "cell_type": "code",
   "execution_count": 34,
   "metadata": {},
   "outputs": [
    {
     "data": {
      "text/plain": [
       "<matplotlib.axes._subplots.AxesSubplot at 0x1c7b25ad2e8>"
      ]
     },
     "execution_count": 34,
     "metadata": {},
     "output_type": "execute_result"
    }
   ],
   "source": [
    "indexSeries = pd.DataFrame()\n",
    "indexSeries[\"index\"] = df_values.mean(axis=1)\n",
    "indexSeries.plot(ax=ax1, legend=True, lw=4, color=\"k\")"
   ]
  },
  {
   "cell_type": "markdown",
   "metadata": {},
   "source": [
    "### Berechnen eines *Durchschnittswertes* (Performance)"
   ]
  },
  {
   "cell_type": "code",
   "execution_count": 35,
   "metadata": {},
   "outputs": [
    {
     "data": {
      "text/plain": [
       "<matplotlib.axes._subplots.AxesSubplot at 0x1c7b37dd748>"
      ]
     },
     "execution_count": 35,
     "metadata": {},
     "output_type": "execute_result"
    }
   ],
   "source": [
    "indexSeries = pd.DataFrame()\n",
    "indexSeries[\"index\"] = df.mean(axis=1)\n",
    "indexSeries.plot(ax=ax2, legend=True, lw=4, ls='-',color=\"k\")\n",
    "indexSeries.plot(ax=ax3, legend=True, lw=4, ls='-',color=\"k\")"
   ]
  },
  {
   "cell_type": "markdown",
   "metadata": {},
   "source": [
    "Besonderheit: \n",
    "- Durchschnittswerte der Kurse nicht repräsentativ:\n",
    "- Aktienkurse sind *willkürlich* hoch: Der Unternehmenswert (Marktkapitalisiserung) ermittelt sich aus dem Produkt der vorhandenen Aktien und dem Stückpreis\n",
    "- Kurse werden typischerweise nach Marktkapitalisierung gewichtet."
   ]
  },
  {
   "cell_type": "markdown",
   "metadata": {},
   "source": [
    "# Aktienfonds"
   ]
  },
  {
   "cell_type": "markdown",
   "metadata": {},
   "source": [
    "Produkt um die Vorteile gemeinsamen Investieren zu nutzen."
   ]
  },
  {
   "cell_type": "markdown",
   "metadata": {},
   "source": [
    "### DowJones"
   ]
  },
  {
   "cell_type": "code",
   "execution_count": 36,
   "metadata": {},
   "outputs": [
    {
     "name": "stdout",
     "output_type": "stream",
     "text": [
      "[*********************100%***********************]  1 of 1 downloaded\n"
     ]
    }
   ],
   "source": [
    "data_dow_yahoo = pdr.get_data_yahoo(\"^DJI\",\"1970-12-12\",\"2018-12-14\")\n",
    "data_dow_alpha = pdr.get_data_alphavantage(\"^DJI\",function='TIME_SERIES_DAILY',\n",
    "                                             start=\"1970-12-12\",end=\"2018-12-14\", api_key=\"1X6D9DKKAQD7BPWV\")\n",
    "dow = quandl.get(\"BCB/UDJIAD1\")"
   ]
  },
  {
   "cell_type": "code",
   "execution_count": 37,
   "metadata": {},
   "outputs": [],
   "source": [
    "dow = quandl.get(\"BCB/UDJIAD1\")"
   ]
  },
  {
   "cell_type": "code",
   "execution_count": 38,
   "metadata": {},
   "outputs": [
    {
     "data": {
      "application/vnd.jupyter.widget-view+json": {
       "model_id": "4994537746a34d5d9876653b3fd5c404",
       "version_major": 2,
       "version_minor": 0
      },
      "text/plain": [
       "FigureCanvasNbAgg()"
      ]
     },
     "metadata": {},
     "output_type": "display_data"
    },
    {
     "data": {
      "application/vnd.jupyter.widget-view+json": {
       "model_id": "eee3302826f448c384c5c2436af76285",
       "version_major": 2,
       "version_minor": 0
      },
      "text/plain": [
       "FigureCanvasNbAgg()"
      ]
     },
     "metadata": {},
     "output_type": "display_data"
    },
    {
     "data": {
      "text/plain": [
       "<matplotlib.axes._subplots.AxesSubplot at 0x1c7b2230128>"
      ]
     },
     "execution_count": 38,
     "metadata": {},
     "output_type": "execute_result"
    }
   ],
   "source": [
    "dow.plot()\n",
    "dow.plot(logy=True)"
   ]
  },
  {
   "cell_type": "code",
   "execution_count": 40,
   "metadata": {},
   "outputs": [
    {
     "data": {
      "text/html": [
       "<div>\n",
       "<style scoped>\n",
       "    .dataframe tbody tr th:only-of-type {\n",
       "        vertical-align: middle;\n",
       "    }\n",
       "\n",
       "    .dataframe tbody tr th {\n",
       "        vertical-align: top;\n",
       "    }\n",
       "\n",
       "    .dataframe thead th {\n",
       "        text-align: right;\n",
       "    }\n",
       "</style>\n",
       "<table border=\"1\" class=\"dataframe\">\n",
       "  <thead>\n",
       "    <tr style=\"text-align: right;\">\n",
       "      <th></th>\n",
       "      <th>Value</th>\n",
       "    </tr>\n",
       "    <tr>\n",
       "      <th>Date</th>\n",
       "      <th></th>\n",
       "    </tr>\n",
       "  </thead>\n",
       "  <tbody>\n",
       "    <tr>\n",
       "      <th>1896-07-14</th>\n",
       "      <td>33.43</td>\n",
       "    </tr>\n",
       "    <tr>\n",
       "      <th>1896-07-15</th>\n",
       "      <td>32.28</td>\n",
       "    </tr>\n",
       "    <tr>\n",
       "      <th>1896-07-16</th>\n",
       "      <td>31.95</td>\n",
       "    </tr>\n",
       "    <tr>\n",
       "      <th>1896-07-17</th>\n",
       "      <td>31.94</td>\n",
       "    </tr>\n",
       "    <tr>\n",
       "      <th>1896-07-18</th>\n",
       "      <td>31.50</td>\n",
       "    </tr>\n",
       "  </tbody>\n",
       "</table>\n",
       "</div>"
      ],
      "text/plain": [
       "            Value\n",
       "Date             \n",
       "1896-07-14  33.43\n",
       "1896-07-15  32.28\n",
       "1896-07-16  31.95\n",
       "1896-07-17  31.94\n",
       "1896-07-18  31.50"
      ]
     },
     "execution_count": 40,
     "metadata": {},
     "output_type": "execute_result"
    }
   ],
   "source": [
    "dow.head()"
   ]
  },
  {
   "cell_type": "markdown",
   "metadata": {},
   "source": [
    "## Wann Einsteigen, wann Aussteigen? "
   ]
  },
  {
   "cell_type": "markdown",
   "metadata": {},
   "source": [
    "### Ich will market timing spielen, der Gesamtmarkt ist grad so teuer, das ist bestimmt eine Blase"
   ]
  },
  {
   "cell_type": "markdown",
   "metadata": {},
   "source": [
    "Franz, ich will da jetzt nicht einsteigen, es ist alles viel zu teuer!!!\n",
    "\n",
    "Zu tun: Renditedreieck berechnen, auf Zeit spielen\n",
    "Kumulative Funktion schreiben mit Buchungen und Ertrag"
   ]
  },
  {
   "cell_type": "markdown",
   "metadata": {},
   "source": [
    "## Jetzt wird's konkret - der Sparplan"
   ]
  },
  {
   "cell_type": "markdown",
   "metadata": {},
   "source": [
    "Berechnung eines Sparplanes"
   ]
  },
  {
   "cell_type": "markdown",
   "metadata": {},
   "source": [
    "pip install -e git://github.com/better/irr#egg=irr"
   ]
  },
  {
   "cell_type": "markdown",
   "metadata": {},
   "source": [
    "2018-1973"
   ]
  },
  {
   "cell_type": "markdown",
   "metadata": {},
   "source": [
    "Bin selbst etwas über 30, noch 35 Jahre \"bis zur Rente\"!"
   ]
  },
  {
   "cell_type": "code",
   "execution_count": 41,
   "metadata": {},
   "outputs": [
    {
     "data": {
      "application/vnd.jupyter.widget-view+json": {
       "model_id": "9089cb3a281240fdaf09adbec49b3e45",
       "version_major": 2,
       "version_minor": 0
      },
      "text/plain": [
       "FigureCanvasNbAgg()"
      ]
     },
     "metadata": {},
     "output_type": "display_data"
    },
    {
     "data": {
      "text/plain": [
       "<matplotlib.legend.Legend at 0x1c7afa34fd0>"
      ]
     },
     "execution_count": 41,
     "metadata": {},
     "output_type": "execute_result"
    }
   ],
   "source": [
    "import os\n",
    "\n",
    "begin_date = pd.Timestamp(\"1984-10-30\")\n",
    "end_date = pd.Timestamp(\"2019-01-03\")\n",
    "initial_balance = 0.0\n",
    "interest = 0.0 #percent\n",
    "deposit = 237.0\n",
    "CC = CumulativeCalculation(initial_balance, begin_date, end_date, deposit, \"MS\", interest)\n",
    "CC1 = CumulativeCalculation(initial_balance, begin_date, end_date, deposit, \"MS\", interest+1.0)\n",
    "CC8 = CumulativeCalculation(initial_balance, begin_date, end_date, deposit, \"MS\", interest+8.0)\n",
    "\n",
    "\n",
    "CCS = CumulativeStockCalculation(\"yahoo\",\"^GSPC\",initial_balance, begin_date, end_date, deposit, \"MS\")\n",
    "CCDAX = CumulativeStockCalculation(\"yahoo\",\"^GDAXI\",initial_balance, begin_date, end_date, deposit, \"MS\")\n",
    "CCAAPL = CumulativeStockCalculation(\"yahoo\",\"AAPL\",initial_balance, begin_date, end_date, deposit, \"MS\")\n",
    "CCAAPL_quandl = CumulativeStockCalculation(\"quandl\",\"WGC/GOLD_DAILY_USD\",initial_balance, begin_date, end_date, deposit, \"MS\")\n",
    "\n",
    "CC.calc_interest()\n",
    "CC8.calc_interest()\n",
    "CCS.calc_interest()\n",
    "CCDAX.calc_interest()\n",
    "CCAAPL_quandl.calc_interest()\n",
    "#CCAAPL.calc_interest()\n",
    "CC1.calc_interest()\n",
    "plt.style.use(\"default\")\n",
    "plt.figure(0)\n",
    "CC.df[\"value\"].plot(ls=\"-\", label=\"Sparplan\")\n",
    "CC1.df[\"value\"].plot(ls=\"-\", label=\"Sparplan mit 1% Zins\")\n",
    "CC8.df[\"value\"].plot(ls=\"-\", label=\"Sparplan mit 8% Zins\")\n",
    "CCS.calc_interest()\n",
    "CCS.df[\"value\"].plot(label=\"ETF Sparplan S&P 500\")\n",
    "CCDAX.df[\"value\"].plot(label=\"ETF Sparplan DAX\")\n",
    "#CCAAPL_quandl.df[\"value\"].plot(label=\"Gold USD\")\n",
    "plt.xlabel(\"Jahr\")\n",
    "plt.ylabel(\"Wert des Depots / EUR\")\n",
    "#plt.grid(True)\n",
    "plt.legend(loc=\"best\")\n",
    "#plt.figure(1)\n",
    "#CCS.plot_stock()"
   ]
  },
  {
   "cell_type": "markdown",
   "metadata": {},
   "source": [
    "Aufteilen des Sparplans in Einzahlperioden:\n",
    "- monatliches Einzahlen"
   ]
  },
  {
   "cell_type": "code",
   "execution_count": 42,
   "metadata": {},
   "outputs": [
    {
     "data": {
      "application/vnd.jupyter.widget-view+json": {
       "model_id": "18afaf87e0504441aed18e3c0a48f23d",
       "version_major": 2,
       "version_minor": 0
      },
      "text/plain": [
       "FigureCanvasNbAgg()"
      ]
     },
     "metadata": {},
     "output_type": "display_data"
    },
    {
     "name": "stdout",
     "output_type": "stream",
     "text": [
      "[2017, 2016, 2015, 2014, 2013, 2012, 2011, 2010, 2009, 2008, 2007, 2006, 2005, 2004, 2003, 2002, 2001, 2000, 1999, 1998, 1997, 1996, 1995, 1994, 1993, 1992, 1991, 1990, 1989, 1988, 1987, 1986, 1985, 1984, 1983]\n",
      "[2018, 2017, 2016, 2015, 2014, 2013, 2012, 2011, 2010, 2009, 2008, 2007, 2006, 2005, 2004, 2003, 2002, 2001, 2000, 1999, 1998, 1997, 1996, 1995, 1994, 1993, 1992, 1991, 1990, 1989, 1988, 1987, 1986, 1985, 1984]\n"
     ]
    }
   ],
   "source": [
    "my_dreieck = RenditeDreieck(\"yahoo_finance\", \"^GSPC\", begin_date, end_date, deposit, \"MS\", \"Y\")\n",
    "dreieck = my_dreieck.calc_triangle(True)\n",
    "my_dreieck.plot_triangle()\n"
   ]
  },
  {
   "cell_type": "code",
   "execution_count": 43,
   "metadata": {},
   "outputs": [
    {
     "data": {
      "application/vnd.jupyter.widget-view+json": {
       "model_id": "cd7ed14ce86b46e5aafbd34133211998",
       "version_major": 2,
       "version_minor": 0
      },
      "text/plain": [
       "FigureCanvasNbAgg()"
      ]
     },
     "metadata": {},
     "output_type": "display_data"
    },
    {
     "name": "stdout",
     "output_type": "stream",
     "text": [
      "[2017, 2016, 2015, 2014, 2013, 2012, 2011, 2010, 2009, 2008, 2007, 2006, 2005, 2004, 2003, 2002, 2001, 2000, 1999, 1998, 1997, 1996, 1995, 1994, 1993, 1992, 1991, 1990, 1989, 1988, 1987, 1986, 1985, 1984, 1983]\n",
      "[2018, 2017, 2016, 2015, 2014, 2013, 2012, 2011, 2010, 2009, 2008, 2007, 2006, 2005, 2004, 2003, 2002, 2001, 2000, 1999, 1998, 1997, 1996, 1995, 1994, 1993, 1992, 1991, 1990, 1989, 1988, 1987, 1986, 1985, 1984]\n"
     ]
    }
   ],
   "source": [
    "my_dreieck = RenditeDreieck(\"yahoo_finance\", \"AAPL\", begin_date, end_date, deposit, \"MS\", \"Y\")\n",
    "dreieck = my_dreieck.calc_triangle(True)\n",
    "my_dreieck.plot_triangle()"
   ]
  },
  {
   "cell_type": "code",
   "execution_count": 44,
   "metadata": {},
   "outputs": [
    {
     "data": {
      "application/vnd.jupyter.widget-view+json": {
       "model_id": "6e9238a3f7684738a4bf9ffc0c47d36e",
       "version_major": 2,
       "version_minor": 0
      },
      "text/plain": [
       "FigureCanvasNbAgg()"
      ]
     },
     "metadata": {},
     "output_type": "display_data"
    },
    {
     "name": "stdout",
     "output_type": "stream",
     "text": [
      "[2017, 2016, 2015, 2014, 2013, 2012, 2011, 2010, 2009, 2008, 2007, 2006, 2005, 2004, 2003, 2002, 2001, 2000, 1999, 1998, 1997, 1996, 1995, 1994, 1993, 1992, 1991, 1990, 1989, 1988, 1987, 1986, 1985, 1984, 1983]\n",
      "[2018, 2017, 2016, 2015, 2014, 2013, 2012, 2011, 2010, 2009, 2008, 2007, 2006, 2005, 2004, 2003, 2002, 2001, 2000, 1999, 1998, 1997, 1996, 1995, 1994, 1993, 1992, 1991, 1990, 1989, 1988, 1987, 1986, 1985, 1984]\n",
      "0 4\n",
      "5 10\n",
      "22 27\n",
      "24 31\n"
     ]
    }
   ],
   "source": [
    "my_dreieck = RenditeDreieck(\"quandl\", \"WGC/GOLD_DAILY_USD\", begin_date, end_date, deposit, \"MS\", \"Y\")\n",
    "dreieck = my_dreieck.calc_triangle(True)\n",
    "my_dreieck.plot_triangle()"
   ]
  },
  {
   "cell_type": "code",
   "execution_count": 45,
   "metadata": {},
   "outputs": [
    {
     "data": {
      "text/plain": [
       "<matplotlib.legend.Legend at 0x1c7ade61b70>"
      ]
     },
     "execution_count": 45,
     "metadata": {},
     "output_type": "execute_result"
    }
   ],
   "source": [
    "begin_date = pd.Timestamp(\"2003-10-30\")\n",
    "end_date = pd.Timestamp(\"2018-11-05\")\n",
    "initial_balance = 0.0\n",
    "interest = 0.0 #percent\n",
    "deposit = 237.0\n",
    "CC = CumulativeCalculation(initial_balance, begin_date, end_date, deposit, \"MS\", interest)\n",
    "CC1 = CumulativeCalculation(initial_balance, begin_date, end_date, deposit, \"MS\", interest+1.0)\n",
    "CC8 = CumulativeCalculation(initial_balance, begin_date, end_date, deposit, \"MS\", interest+8.0)\n",
    "\n",
    "\n",
    "CCS = CumulativeStockCalculation(\"yahoo\",\"^GSPC\",initial_balance, begin_date, end_date, deposit, \"MS\")\n",
    "CCNVDA = CumulativeStockCalculation(\"yahoo\",\"NVDA\",initial_balance, begin_date, end_date, deposit, \"MS\")\n",
    "CCAAPL = CumulativeStockCalculation(\"yahoo\",\"AAPL\",initial_balance, begin_date, end_date, deposit, \"MS\")\n",
    "CCAAPL_quandl = CumulativeStockCalculation(\"quandl\",\"WGC/GOLD_DAILY_USD\",initial_balance, begin_date, end_date, deposit, \"MS\")\n",
    "\n",
    "CC.calc_interest()\n",
    "CC8.calc_interest()\n",
    "CCS.calc_interest()\n",
    "CCNVDA.calc_interest()\n",
    "CCAAPL_quandl.calc_interest()\n",
    "#CCAAPL.calc_interest()\n",
    "CC1.calc_interest()\n",
    "plt.style.use(\"default\")\n",
    "plt.figure(0, figsize=(15,9))\n",
    "#CC.df[\"value\"].plot(ls=\"-\", label=\"Sparplan\")\n",
    "#CC1.df[\"value\"].plot(ls=\"-\", label=\"Sparplan mit 1% Zins\")\n",
    "#CC8.df[\"value\"].plot(ls=\"-\", label=\"Sparplan mit 8% Zins\")\n",
    "CCS.calc_interest()\n",
    "CCS.df[\"value\"].plot(label=\"ETF Sparplan S&P 500\")\n",
    "CCNVDA.df[\"value\"].plot(label=\"ETF Sparplan NVidia\")\n",
    "#CCAAPL_quandl.df[\"value\"].plot(label=\"Gold USD\")\n",
    "plt.xlabel(\"Jahr\")\n",
    "plt.ylabel(\"Wert des Depots / EUR\")\n",
    "#plt.grid(True)\n",
    "plt.legend(loc=\"best\")\n",
    "#plt.figure(1)\n",
    "#CCS.plot_stock()"
   ]
  },
  {
   "cell_type": "code",
   "execution_count": 46,
   "metadata": {},
   "outputs": [
    {
     "data": {
      "application/vnd.jupyter.widget-view+json": {
       "model_id": "ff4aa479f0324b3f9f5e0a4e3c0838cd",
       "version_major": 2,
       "version_minor": 0
      },
      "text/plain": [
       "FigureCanvasNbAgg()"
      ]
     },
     "metadata": {},
     "output_type": "display_data"
    },
    {
     "name": "stdout",
     "output_type": "stream",
     "text": [
      "[2016, 2015, 2014, 2013, 2012, 2011, 2010, 2009, 2008, 2007, 2006, 2005, 2004, 2003, 2002]\n",
      "[2017, 2016, 2015, 2014, 2013, 2012, 2011, 2010, 2009, 2008, 2007, 2006, 2005, 2004, 2003]\n"
     ]
    }
   ],
   "source": [
    "    my_dreieck = RenditeDreieck(\"yahoo\", \"NVDA\", begin_date, end_date, deposit, \"MS\", \"Y\")\n",
    "    dreieck = my_dreieck.calc_triangle(True)\n",
    "    my_dreieck.plot_triangle()"
   ]
  },
  {
   "cell_type": "code",
   "execution_count": 47,
   "metadata": {},
   "outputs": [
    {
     "name": "stdout",
     "output_type": "stream",
     "text": [
      "[*********************100%***********************]  1 of 1 downloaded\n"
     ]
    },
    {
     "data": {
      "application/vnd.jupyter.widget-view+json": {
       "model_id": "d65bc3a584a24ae1abf77f7c54c74bbd",
       "version_major": 2,
       "version_minor": 0
      },
      "text/plain": [
       "FigureCanvasNbAgg()"
      ]
     },
     "metadata": {},
     "output_type": "display_data"
    },
    {
     "name": "stdout",
     "output_type": "stream",
     "text": [
      "[2016, 2015, 2014, 2013, 2012, 2011, 2010, 2009, 2008, 2007, 2006, 2005, 2004, 2003, 2002, 2001, 2000, 1999, 1998, 1997]\n",
      "[2017, 2016, 2015, 2014, 2013, 2012, 2011, 2010, 2009, 2008, 2007, 2006, 2005, 2004, 2003, 2002, 2001, 2000, 1999, 1998]\n"
     ]
    }
   ],
   "source": [
    "    my_dreieck = RenditeDreieck(\"yahoo\", \"VOW.DE\", \"1998-01-01\", \"2018-11-05\", 1000, \"MS\", \"Y\")\n",
    "    dreieck = my_dreieck.calc_triangle(True)\n",
    "    my_dreieck.plot_triangle()"
   ]
  },
  {
   "cell_type": "code",
   "execution_count": 48,
   "metadata": {},
   "outputs": [
    {
     "name": "stdout",
     "output_type": "stream",
     "text": [
      "[*********************100%***********************]  1 of 1 downloaded\n"
     ]
    },
    {
     "data": {
      "application/vnd.jupyter.widget-view+json": {
       "model_id": "506f1aa6070d4c6aa2dc7f0e2c55e0ca",
       "version_major": 2,
       "version_minor": 0
      },
      "text/plain": [
       "FigureCanvasNbAgg()"
      ]
     },
     "metadata": {},
     "output_type": "display_data"
    },
    {
     "name": "stdout",
     "output_type": "stream",
     "text": [
      "[2016, 2015, 2014, 2013, 2012, 2011, 2010, 2009, 2008, 2007, 2006]\n",
      "[2017, 2016, 2015, 2014, 2013, 2012, 2011, 2010, 2009, 2008, 2007]\n",
      "1 2\n",
      "10 10\n"
     ]
    }
   ],
   "source": [
    "    my_dreieck = RenditeDreieck(\"yahoo\", \"EXSA.DE\", \"2007-01-01\", \"2018-11-05\", 1000, \"MS\", \"Y\")\n",
    "    dreieck = my_dreieck.calc_triangle(True)\n",
    "    my_dreieck.plot_triangle()"
   ]
  },
  {
   "cell_type": "markdown",
   "metadata": {},
   "source": [
    "Es gibt noch dutzendes zu bedenken:\n",
    "- Währung?\n",
    "- Steuern? --> Steuergesetze ändern sich.\n",
    "- "
   ]
  },
  {
   "cell_type": "markdown",
   "metadata": {
    "slideshow": {
     "slide_type": "slide"
    }
   },
   "source": [
    "### Internal Rate of Investment (IRR): Interner Zinsfuß"
   ]
  },
  {
   "cell_type": "markdown",
   "metadata": {},
   "source": [
    "$$KW = -I+\\sum_{t=1}^T \\frac{C_t}{(1+\\text{irr})^t} $$\n",
    "\n",
    "$$KW \\overset{!}{=} 0$$\n"
   ]
  },
  {
   "cell_type": "markdown",
   "metadata": {},
   "source": [
    "$$\\text{Entnahmesumme} = \\frac{200}{r+1}+\\frac{200}{(r+1)^2}+\\frac{200}{(r+1)^3}+... $$"
   ]
  },
  {
   "cell_type": "markdown",
   "metadata": {},
   "source": [
    "## Der Dystopische Ansatz oder: was kann schief gehen?"
   ]
  },
  {
   "cell_type": "markdown",
   "metadata": {},
   "source": [
    "Ob es ratsam ist in Aktien zu investieren hängt ganz wesentlich von der eigenen Weltsicht ab. Was passiert die nächsten 50 Jahre?"
   ]
  },
  {
   "cell_type": "markdown",
   "metadata": {},
   "source": [
    "- Szenario 1: Die Welt geht unter! Postapokalypse: Es zählt was man kann und was man zu tauschen hat. Ich bin Vollzeitimker.\n",
    "- Szenario 2: Diktatur und es ist verboten ausländische Aktien zu besitzen --> Wie sicher ist dann aber alles andere? Es war auch verboten Gold zu besitzen und Rente war auch nicht so sicher?! Man hat Glück wenn man mit dem Leben davonkommt.\n",
    "- Szenario 3: Der Kapitalismus schafft sich selbst ab: Mit Aktien hat man dann Pech gehabt.\n",
    "- Szenario 4: Es bleibt bei dem Trend, dass die Welt besser und weniger tödlich wird. (Kurve zeigen)\n",
    "- \n"
   ]
  },
  {
   "cell_type": "markdown",
   "metadata": {},
   "source": [
    "# Was soll uns das alles?"
   ]
  },
  {
   "cell_type": "markdown",
   "metadata": {},
   "source": [
    "- Ungleiche Vermögen und Einkommen spalten die Gesellschaft, das ist ein politisches Thema, das ich hier nicht adressiere\n",
    "- Ungleiche Vermögen und Sparraten verstärken das Vermögensverhältnis infolge ungleich verteilter Finanzbildung\n",
    "- Aus der Vergangenheit lassen sich keine Vorhersagen für die Zukunft des Aktienmarktes ableiten"
   ]
  },
  {
   "cell_type": "markdown",
   "metadata": {},
   "source": [
    "# Twitter: ziergedeck, github: karpatenhuhn "
   ]
  },
  {
   "cell_type": "markdown",
   "metadata": {},
   "source": [
    "# beier@franzcloud.net"
   ]
  }
 ],
 "metadata": {
  "kernelspec": {
   "display_name": "Python 3",
   "language": "python",
   "name": "python3"
  },
  "language_info": {
   "codemirror_mode": {
    "name": "ipython",
    "version": 3
   },
   "file_extension": ".py",
   "mimetype": "text/x-python",
   "name": "python",
   "nbconvert_exporter": "python",
   "pygments_lexer": "ipython3",
   "version": "3.6.3"
  }
 },
 "nbformat": 4,
 "nbformat_minor": 2
}
